{
 "cells": [
  {
   "cell_type": "markdown",
   "metadata": {},
   "source": [
    "### Building Models with some of most inportant data"
   ]
  },
  {
   "cell_type": "code",
   "execution_count": 1,
   "metadata": {},
   "outputs": [],
   "source": [
    "import pandas as pd\n",
    "import numpy as np"
   ]
  },
  {
   "cell_type": "code",
   "execution_count": 2,
   "metadata": {},
   "outputs": [],
   "source": [
    "adult = pd.read_csv('adult.csv')"
   ]
  },
  {
   "cell_type": "code",
   "execution_count": 3,
   "metadata": {},
   "outputs": [
    {
     "data": {
      "text/html": [
       "<div>\n",
       "<style scoped>\n",
       "    .dataframe tbody tr th:only-of-type {\n",
       "        vertical-align: middle;\n",
       "    }\n",
       "\n",
       "    .dataframe tbody tr th {\n",
       "        vertical-align: top;\n",
       "    }\n",
       "\n",
       "    .dataframe thead th {\n",
       "        text-align: right;\n",
       "    }\n",
       "</style>\n",
       "<table border=\"1\" class=\"dataframe\">\n",
       "  <thead>\n",
       "    <tr style=\"text-align: right;\">\n",
       "      <th></th>\n",
       "      <th>age</th>\n",
       "      <th>workclass</th>\n",
       "      <th>fnlwgt</th>\n",
       "      <th>education</th>\n",
       "      <th>educational-num</th>\n",
       "      <th>marital-status</th>\n",
       "      <th>occupation</th>\n",
       "      <th>relationship</th>\n",
       "      <th>race</th>\n",
       "      <th>gender</th>\n",
       "      <th>capital-gain</th>\n",
       "      <th>capital-loss</th>\n",
       "      <th>hours-per-week</th>\n",
       "      <th>native-country</th>\n",
       "      <th>income</th>\n",
       "    </tr>\n",
       "  </thead>\n",
       "  <tbody>\n",
       "    <tr>\n",
       "      <th>0</th>\n",
       "      <td>25</td>\n",
       "      <td>Private</td>\n",
       "      <td>226802</td>\n",
       "      <td>11th</td>\n",
       "      <td>7</td>\n",
       "      <td>Never-married</td>\n",
       "      <td>Machine-op-inspct</td>\n",
       "      <td>Own-child</td>\n",
       "      <td>Black</td>\n",
       "      <td>Male</td>\n",
       "      <td>0</td>\n",
       "      <td>0</td>\n",
       "      <td>40</td>\n",
       "      <td>United-States</td>\n",
       "      <td>&lt;=50K</td>\n",
       "    </tr>\n",
       "    <tr>\n",
       "      <th>1</th>\n",
       "      <td>38</td>\n",
       "      <td>Private</td>\n",
       "      <td>89814</td>\n",
       "      <td>HS-grad</td>\n",
       "      <td>9</td>\n",
       "      <td>Married-civ-spouse</td>\n",
       "      <td>Farming-fishing</td>\n",
       "      <td>Husband</td>\n",
       "      <td>White</td>\n",
       "      <td>Male</td>\n",
       "      <td>0</td>\n",
       "      <td>0</td>\n",
       "      <td>50</td>\n",
       "      <td>United-States</td>\n",
       "      <td>&lt;=50K</td>\n",
       "    </tr>\n",
       "    <tr>\n",
       "      <th>2</th>\n",
       "      <td>28</td>\n",
       "      <td>Local-gov</td>\n",
       "      <td>336951</td>\n",
       "      <td>Assoc-acdm</td>\n",
       "      <td>12</td>\n",
       "      <td>Married-civ-spouse</td>\n",
       "      <td>Protective-serv</td>\n",
       "      <td>Husband</td>\n",
       "      <td>White</td>\n",
       "      <td>Male</td>\n",
       "      <td>0</td>\n",
       "      <td>0</td>\n",
       "      <td>40</td>\n",
       "      <td>United-States</td>\n",
       "      <td>&gt;50K</td>\n",
       "    </tr>\n",
       "    <tr>\n",
       "      <th>3</th>\n",
       "      <td>44</td>\n",
       "      <td>Private</td>\n",
       "      <td>160323</td>\n",
       "      <td>Some-college</td>\n",
       "      <td>10</td>\n",
       "      <td>Married-civ-spouse</td>\n",
       "      <td>Machine-op-inspct</td>\n",
       "      <td>Husband</td>\n",
       "      <td>Black</td>\n",
       "      <td>Male</td>\n",
       "      <td>7688</td>\n",
       "      <td>0</td>\n",
       "      <td>40</td>\n",
       "      <td>United-States</td>\n",
       "      <td>&gt;50K</td>\n",
       "    </tr>\n",
       "    <tr>\n",
       "      <th>4</th>\n",
       "      <td>18</td>\n",
       "      <td>?</td>\n",
       "      <td>103497</td>\n",
       "      <td>Some-college</td>\n",
       "      <td>10</td>\n",
       "      <td>Never-married</td>\n",
       "      <td>?</td>\n",
       "      <td>Own-child</td>\n",
       "      <td>White</td>\n",
       "      <td>Female</td>\n",
       "      <td>0</td>\n",
       "      <td>0</td>\n",
       "      <td>30</td>\n",
       "      <td>United-States</td>\n",
       "      <td>&lt;=50K</td>\n",
       "    </tr>\n",
       "    <tr>\n",
       "      <th>...</th>\n",
       "      <td>...</td>\n",
       "      <td>...</td>\n",
       "      <td>...</td>\n",
       "      <td>...</td>\n",
       "      <td>...</td>\n",
       "      <td>...</td>\n",
       "      <td>...</td>\n",
       "      <td>...</td>\n",
       "      <td>...</td>\n",
       "      <td>...</td>\n",
       "      <td>...</td>\n",
       "      <td>...</td>\n",
       "      <td>...</td>\n",
       "      <td>...</td>\n",
       "      <td>...</td>\n",
       "    </tr>\n",
       "    <tr>\n",
       "      <th>48837</th>\n",
       "      <td>27</td>\n",
       "      <td>Private</td>\n",
       "      <td>257302</td>\n",
       "      <td>Assoc-acdm</td>\n",
       "      <td>12</td>\n",
       "      <td>Married-civ-spouse</td>\n",
       "      <td>Tech-support</td>\n",
       "      <td>Wife</td>\n",
       "      <td>White</td>\n",
       "      <td>Female</td>\n",
       "      <td>0</td>\n",
       "      <td>0</td>\n",
       "      <td>38</td>\n",
       "      <td>United-States</td>\n",
       "      <td>&lt;=50K</td>\n",
       "    </tr>\n",
       "    <tr>\n",
       "      <th>48838</th>\n",
       "      <td>40</td>\n",
       "      <td>Private</td>\n",
       "      <td>154374</td>\n",
       "      <td>HS-grad</td>\n",
       "      <td>9</td>\n",
       "      <td>Married-civ-spouse</td>\n",
       "      <td>Machine-op-inspct</td>\n",
       "      <td>Husband</td>\n",
       "      <td>White</td>\n",
       "      <td>Male</td>\n",
       "      <td>0</td>\n",
       "      <td>0</td>\n",
       "      <td>40</td>\n",
       "      <td>United-States</td>\n",
       "      <td>&gt;50K</td>\n",
       "    </tr>\n",
       "    <tr>\n",
       "      <th>48839</th>\n",
       "      <td>58</td>\n",
       "      <td>Private</td>\n",
       "      <td>151910</td>\n",
       "      <td>HS-grad</td>\n",
       "      <td>9</td>\n",
       "      <td>Widowed</td>\n",
       "      <td>Adm-clerical</td>\n",
       "      <td>Unmarried</td>\n",
       "      <td>White</td>\n",
       "      <td>Female</td>\n",
       "      <td>0</td>\n",
       "      <td>0</td>\n",
       "      <td>40</td>\n",
       "      <td>United-States</td>\n",
       "      <td>&lt;=50K</td>\n",
       "    </tr>\n",
       "    <tr>\n",
       "      <th>48840</th>\n",
       "      <td>22</td>\n",
       "      <td>Private</td>\n",
       "      <td>201490</td>\n",
       "      <td>HS-grad</td>\n",
       "      <td>9</td>\n",
       "      <td>Never-married</td>\n",
       "      <td>Adm-clerical</td>\n",
       "      <td>Own-child</td>\n",
       "      <td>White</td>\n",
       "      <td>Male</td>\n",
       "      <td>0</td>\n",
       "      <td>0</td>\n",
       "      <td>20</td>\n",
       "      <td>United-States</td>\n",
       "      <td>&lt;=50K</td>\n",
       "    </tr>\n",
       "    <tr>\n",
       "      <th>48841</th>\n",
       "      <td>52</td>\n",
       "      <td>Self-emp-inc</td>\n",
       "      <td>287927</td>\n",
       "      <td>HS-grad</td>\n",
       "      <td>9</td>\n",
       "      <td>Married-civ-spouse</td>\n",
       "      <td>Exec-managerial</td>\n",
       "      <td>Wife</td>\n",
       "      <td>White</td>\n",
       "      <td>Female</td>\n",
       "      <td>15024</td>\n",
       "      <td>0</td>\n",
       "      <td>40</td>\n",
       "      <td>United-States</td>\n",
       "      <td>&gt;50K</td>\n",
       "    </tr>\n",
       "  </tbody>\n",
       "</table>\n",
       "<p>48842 rows × 15 columns</p>\n",
       "</div>"
      ],
      "text/plain": [
       "       age     workclass  fnlwgt     education  educational-num  \\\n",
       "0       25       Private  226802          11th                7   \n",
       "1       38       Private   89814       HS-grad                9   \n",
       "2       28     Local-gov  336951    Assoc-acdm               12   \n",
       "3       44       Private  160323  Some-college               10   \n",
       "4       18             ?  103497  Some-college               10   \n",
       "...    ...           ...     ...           ...              ...   \n",
       "48837   27       Private  257302    Assoc-acdm               12   \n",
       "48838   40       Private  154374       HS-grad                9   \n",
       "48839   58       Private  151910       HS-grad                9   \n",
       "48840   22       Private  201490       HS-grad                9   \n",
       "48841   52  Self-emp-inc  287927       HS-grad                9   \n",
       "\n",
       "           marital-status         occupation relationship   race  gender  \\\n",
       "0           Never-married  Machine-op-inspct    Own-child  Black    Male   \n",
       "1      Married-civ-spouse    Farming-fishing      Husband  White    Male   \n",
       "2      Married-civ-spouse    Protective-serv      Husband  White    Male   \n",
       "3      Married-civ-spouse  Machine-op-inspct      Husband  Black    Male   \n",
       "4           Never-married                  ?    Own-child  White  Female   \n",
       "...                   ...                ...          ...    ...     ...   \n",
       "48837  Married-civ-spouse       Tech-support         Wife  White  Female   \n",
       "48838  Married-civ-spouse  Machine-op-inspct      Husband  White    Male   \n",
       "48839             Widowed       Adm-clerical    Unmarried  White  Female   \n",
       "48840       Never-married       Adm-clerical    Own-child  White    Male   \n",
       "48841  Married-civ-spouse    Exec-managerial         Wife  White  Female   \n",
       "\n",
       "       capital-gain  capital-loss  hours-per-week native-country income  \n",
       "0                 0             0              40  United-States  <=50K  \n",
       "1                 0             0              50  United-States  <=50K  \n",
       "2                 0             0              40  United-States   >50K  \n",
       "3              7688             0              40  United-States   >50K  \n",
       "4                 0             0              30  United-States  <=50K  \n",
       "...             ...           ...             ...            ...    ...  \n",
       "48837             0             0              38  United-States  <=50K  \n",
       "48838             0             0              40  United-States   >50K  \n",
       "48839             0             0              40  United-States  <=50K  \n",
       "48840             0             0              20  United-States  <=50K  \n",
       "48841         15024             0              40  United-States   >50K  \n",
       "\n",
       "[48842 rows x 15 columns]"
      ]
     },
     "execution_count": 3,
     "metadata": {},
     "output_type": "execute_result"
    }
   ],
   "source": [
    "adult"
   ]
  },
  {
   "cell_type": "markdown",
   "metadata": {},
   "source": [
    "### Missing values are marked as ?"
   ]
  },
  {
   "cell_type": "code",
   "execution_count": 4,
   "metadata": {},
   "outputs": [],
   "source": [
    "def print_unique(data, print_non_numeric = False, from_columns = [], missing_value = '?'):\n",
    "    if len(from_columns) == 0:\n",
    "        for column in data:\n",
    "            missing_count = data[column][data[column] == '?'].shape[0]\n",
    "            if print_non_numeric:\n",
    "                if data[column].dtype == 'object':\n",
    "                    print(f'Column name = {column}, Length of unique data = {data[column].unique().shape[0]}, Column type = {data[column].dtype}, Amount of missing values ({missing_value}) = {missing_count}')\n",
    "            else: \n",
    "                print(f'Column name = {column}, Length of unique data = {data[column].unique().shape[0]}, Column type = {data[column].dtype}, Amount of missing values ({missing_value}) = {missing_count}')\n",
    "    \n",
    "    else:\n",
    "        for column in from_columns:\n",
    "            if print_non_numeric:\n",
    "                if data[column].dtype == 'object':\n",
    "                    print(f'Column name = {column}, Length of unique data = {data[column].unique().shape[0]}, Column type = {data[column].dtype}, Amount of missing values ({missing_value}) = {missing_count}')\n",
    "            else: \n",
    "                print(f'Column name = {column}, Length of unique data = {data[column].unique().shape[0]}, Column type = {data[column].dtype}, Amount of missing values ({missing_value}) = {missing_count}')\n"
   ]
  },
  {
   "cell_type": "code",
   "execution_count": 5,
   "metadata": {},
   "outputs": [
    {
     "name": "stdout",
     "output_type": "stream",
     "text": [
      "Column name = age, Length of unique data = 74, Column type = int64, Amount of missing values (?) = 0\n",
      "Column name = workclass, Length of unique data = 9, Column type = object, Amount of missing values (?) = 2799\n",
      "Column name = fnlwgt, Length of unique data = 28523, Column type = int64, Amount of missing values (?) = 0\n",
      "Column name = education, Length of unique data = 16, Column type = object, Amount of missing values (?) = 0\n",
      "Column name = educational-num, Length of unique data = 16, Column type = int64, Amount of missing values (?) = 0\n",
      "Column name = marital-status, Length of unique data = 7, Column type = object, Amount of missing values (?) = 0\n",
      "Column name = occupation, Length of unique data = 15, Column type = object, Amount of missing values (?) = 2809\n",
      "Column name = relationship, Length of unique data = 6, Column type = object, Amount of missing values (?) = 0\n",
      "Column name = race, Length of unique data = 5, Column type = object, Amount of missing values (?) = 0\n",
      "Column name = gender, Length of unique data = 2, Column type = object, Amount of missing values (?) = 0\n",
      "Column name = capital-gain, Length of unique data = 123, Column type = int64, Amount of missing values (?) = 0\n",
      "Column name = capital-loss, Length of unique data = 99, Column type = int64, Amount of missing values (?) = 0\n",
      "Column name = hours-per-week, Length of unique data = 96, Column type = int64, Amount of missing values (?) = 0\n",
      "Column name = native-country, Length of unique data = 42, Column type = object, Amount of missing values (?) = 857\n",
      "Column name = income, Length of unique data = 2, Column type = object, Amount of missing values (?) = 0\n"
     ]
    }
   ],
   "source": [
    "print_unique(adult, False)"
   ]
  },
  {
   "cell_type": "code",
   "execution_count": 6,
   "metadata": {},
   "outputs": [
    {
     "name": "stdout",
     "output_type": "stream",
     "text": [
      "Column name = workclass, Length of unique data = 9, Column type = object, Amount of missing values (?) = 2799\n",
      "Column name = education, Length of unique data = 16, Column type = object, Amount of missing values (?) = 0\n",
      "Column name = marital-status, Length of unique data = 7, Column type = object, Amount of missing values (?) = 0\n",
      "Column name = occupation, Length of unique data = 15, Column type = object, Amount of missing values (?) = 2809\n",
      "Column name = relationship, Length of unique data = 6, Column type = object, Amount of missing values (?) = 0\n",
      "Column name = race, Length of unique data = 5, Column type = object, Amount of missing values (?) = 0\n",
      "Column name = gender, Length of unique data = 2, Column type = object, Amount of missing values (?) = 0\n",
      "Column name = native-country, Length of unique data = 42, Column type = object, Amount of missing values (?) = 857\n",
      "Column name = income, Length of unique data = 2, Column type = object, Amount of missing values (?) = 0\n"
     ]
    }
   ],
   "source": [
    "print_unique(adult, True)"
   ]
  },
  {
   "cell_type": "code",
   "execution_count": 7,
   "metadata": {},
   "outputs": [
    {
     "name": "stdout",
     "output_type": "stream",
     "text": [
      "Percent missing data = 5.73%\n"
     ]
    }
   ],
   "source": [
    "percent_missing = adult['workclass'][adult['workclass'] == '?'].shape[0] / adult.shape[0]\n",
    "print(f'Percent missing data = {str(round((percent_missing * 100), 2))}%')"
   ]
  },
  {
   "cell_type": "code",
   "execution_count": 8,
   "metadata": {},
   "outputs": [
    {
     "name": "stdout",
     "output_type": "stream",
     "text": [
      "Percent missing data = 5.75%\n"
     ]
    }
   ],
   "source": [
    "percent_missing = adult['occupation'][adult['occupation'] == '?'].shape[0] / adult.shape[0]\n",
    "print(f'Percent missing data = {str(round((percent_missing * 100), 2))}%')"
   ]
  },
  {
   "cell_type": "code",
   "execution_count": 9,
   "metadata": {},
   "outputs": [
    {
     "name": "stdout",
     "output_type": "stream",
     "text": [
      "Percent missing data = 1.75%\n"
     ]
    }
   ],
   "source": [
    "percent_missing = adult['native-country'][adult['native-country'] == '?'].shape[0] / adult.shape[0]\n",
    "print(f'Percent missing data = {str(round((percent_missing * 100), 2))}%')"
   ]
  },
  {
   "cell_type": "code",
   "execution_count": 10,
   "metadata": {},
   "outputs": [],
   "source": [
    "adult['native-country'].replace({'?' : np.nan}, inplace=True)\n",
    "adult['workclass'].replace({'?' : np.nan}, inplace=True)\n",
    "adult['occupation'].replace({'?' : np.nan}, inplace=True)"
   ]
  },
  {
   "cell_type": "code",
   "execution_count": 11,
   "metadata": {},
   "outputs": [
    {
     "name": "stdout",
     "output_type": "stream",
     "text": [
      "Column name = workclass, Length of unique data = 9, Column type = object, Amount of missing values (?) = 0\n",
      "Column name = education, Length of unique data = 16, Column type = object, Amount of missing values (?) = 0\n",
      "Column name = marital-status, Length of unique data = 7, Column type = object, Amount of missing values (?) = 0\n",
      "Column name = occupation, Length of unique data = 15, Column type = object, Amount of missing values (?) = 0\n",
      "Column name = relationship, Length of unique data = 6, Column type = object, Amount of missing values (?) = 0\n",
      "Column name = race, Length of unique data = 5, Column type = object, Amount of missing values (?) = 0\n",
      "Column name = gender, Length of unique data = 2, Column type = object, Amount of missing values (?) = 0\n",
      "Column name = native-country, Length of unique data = 42, Column type = object, Amount of missing values (?) = 0\n",
      "Column name = income, Length of unique data = 2, Column type = object, Amount of missing values (?) = 0\n"
     ]
    }
   ],
   "source": [
    "print_unique(adult, True)"
   ]
  },
  {
   "cell_type": "code",
   "execution_count": 12,
   "metadata": {},
   "outputs": [
    {
     "data": {
      "text/plain": [
       "age                   0\n",
       "workclass          2799\n",
       "fnlwgt                0\n",
       "education             0\n",
       "educational-num       0\n",
       "marital-status        0\n",
       "occupation         2809\n",
       "relationship          0\n",
       "race                  0\n",
       "gender                0\n",
       "capital-gain          0\n",
       "capital-loss          0\n",
       "hours-per-week        0\n",
       "native-country      857\n",
       "income                0\n",
       "dtype: int64"
      ]
     },
     "execution_count": 12,
     "metadata": {},
     "output_type": "execute_result"
    }
   ],
   "source": [
    "adult.isna().sum()"
   ]
  },
  {
   "cell_type": "code",
   "execution_count": 13,
   "metadata": {},
   "outputs": [
    {
     "data": {
      "text/plain": [
       "48842"
      ]
     },
     "execution_count": 13,
     "metadata": {},
     "output_type": "execute_result"
    }
   ],
   "source": [
    "original_shape = adult.shape[0]\n",
    "original_shape"
   ]
  },
  {
   "cell_type": "code",
   "execution_count": 14,
   "metadata": {},
   "outputs": [
    {
     "name": "stdout",
     "output_type": "stream",
     "text": [
      "92.58834609557348%\n"
     ]
    }
   ],
   "source": [
    "adult = adult.dropna()\n",
    "print(str((adult.shape[0] / original_shape) * 100) + '%')"
   ]
  },
  {
   "cell_type": "code",
   "execution_count": 15,
   "metadata": {},
   "outputs": [
    {
     "data": {
      "text/plain": [
       "age                0\n",
       "workclass          0\n",
       "fnlwgt             0\n",
       "education          0\n",
       "educational-num    0\n",
       "marital-status     0\n",
       "occupation         0\n",
       "relationship       0\n",
       "race               0\n",
       "gender             0\n",
       "capital-gain       0\n",
       "capital-loss       0\n",
       "hours-per-week     0\n",
       "native-country     0\n",
       "income             0\n",
       "dtype: int64"
      ]
     },
     "execution_count": 15,
     "metadata": {},
     "output_type": "execute_result"
    }
   ],
   "source": [
    "adult.isna().sum()"
   ]
  },
  {
   "cell_type": "code",
   "execution_count": 16,
   "metadata": {},
   "outputs": [
    {
     "data": {
      "text/html": [
       "<div>\n",
       "<style scoped>\n",
       "    .dataframe tbody tr th:only-of-type {\n",
       "        vertical-align: middle;\n",
       "    }\n",
       "\n",
       "    .dataframe tbody tr th {\n",
       "        vertical-align: top;\n",
       "    }\n",
       "\n",
       "    .dataframe thead th {\n",
       "        text-align: right;\n",
       "    }\n",
       "</style>\n",
       "<table border=\"1\" class=\"dataframe\">\n",
       "  <thead>\n",
       "    <tr style=\"text-align: right;\">\n",
       "      <th></th>\n",
       "      <th>age</th>\n",
       "      <th>workclass</th>\n",
       "      <th>fnlwgt</th>\n",
       "      <th>education</th>\n",
       "      <th>educational-num</th>\n",
       "      <th>marital-status</th>\n",
       "      <th>occupation</th>\n",
       "      <th>relationship</th>\n",
       "      <th>race</th>\n",
       "      <th>gender</th>\n",
       "      <th>capital-gain</th>\n",
       "      <th>capital-loss</th>\n",
       "      <th>hours-per-week</th>\n",
       "      <th>native-country</th>\n",
       "      <th>income</th>\n",
       "    </tr>\n",
       "  </thead>\n",
       "  <tbody>\n",
       "    <tr>\n",
       "      <th>12112</th>\n",
       "      <td>52</td>\n",
       "      <td>Private</td>\n",
       "      <td>261671</td>\n",
       "      <td>HS-grad</td>\n",
       "      <td>9</td>\n",
       "      <td>Married-civ-spouse</td>\n",
       "      <td>Machine-op-inspct</td>\n",
       "      <td>Husband</td>\n",
       "      <td>Asian-Pac-Islander</td>\n",
       "      <td>Male</td>\n",
       "      <td>0</td>\n",
       "      <td>0</td>\n",
       "      <td>40</td>\n",
       "      <td>Vietnam</td>\n",
       "      <td>&lt;=50K</td>\n",
       "    </tr>\n",
       "    <tr>\n",
       "      <th>45906</th>\n",
       "      <td>25</td>\n",
       "      <td>Private</td>\n",
       "      <td>372728</td>\n",
       "      <td>Bachelors</td>\n",
       "      <td>13</td>\n",
       "      <td>Never-married</td>\n",
       "      <td>Other-service</td>\n",
       "      <td>Not-in-family</td>\n",
       "      <td>Black</td>\n",
       "      <td>Female</td>\n",
       "      <td>0</td>\n",
       "      <td>0</td>\n",
       "      <td>24</td>\n",
       "      <td>Jamaica</td>\n",
       "      <td>&lt;=50K</td>\n",
       "    </tr>\n",
       "    <tr>\n",
       "      <th>8302</th>\n",
       "      <td>59</td>\n",
       "      <td>Federal-gov</td>\n",
       "      <td>51662</td>\n",
       "      <td>HS-grad</td>\n",
       "      <td>9</td>\n",
       "      <td>Widowed</td>\n",
       "      <td>Adm-clerical</td>\n",
       "      <td>Unmarried</td>\n",
       "      <td>White</td>\n",
       "      <td>Female</td>\n",
       "      <td>0</td>\n",
       "      <td>0</td>\n",
       "      <td>40</td>\n",
       "      <td>United-States</td>\n",
       "      <td>&lt;=50K</td>\n",
       "    </tr>\n",
       "    <tr>\n",
       "      <th>28809</th>\n",
       "      <td>33</td>\n",
       "      <td>Private</td>\n",
       "      <td>133278</td>\n",
       "      <td>HS-grad</td>\n",
       "      <td>9</td>\n",
       "      <td>Never-married</td>\n",
       "      <td>Adm-clerical</td>\n",
       "      <td>Own-child</td>\n",
       "      <td>Black</td>\n",
       "      <td>Female</td>\n",
       "      <td>0</td>\n",
       "      <td>0</td>\n",
       "      <td>40</td>\n",
       "      <td>United-States</td>\n",
       "      <td>&lt;=50K</td>\n",
       "    </tr>\n",
       "    <tr>\n",
       "      <th>48772</th>\n",
       "      <td>33</td>\n",
       "      <td>Private</td>\n",
       "      <td>63079</td>\n",
       "      <td>HS-grad</td>\n",
       "      <td>9</td>\n",
       "      <td>Divorced</td>\n",
       "      <td>Adm-clerical</td>\n",
       "      <td>Unmarried</td>\n",
       "      <td>Black</td>\n",
       "      <td>Female</td>\n",
       "      <td>0</td>\n",
       "      <td>0</td>\n",
       "      <td>40</td>\n",
       "      <td>United-States</td>\n",
       "      <td>&lt;=50K</td>\n",
       "    </tr>\n",
       "  </tbody>\n",
       "</table>\n",
       "</div>"
      ],
      "text/plain": [
       "       age    workclass  fnlwgt  education  educational-num  \\\n",
       "12112   52      Private  261671    HS-grad                9   \n",
       "45906   25      Private  372728  Bachelors               13   \n",
       "8302    59  Federal-gov   51662    HS-grad                9   \n",
       "28809   33      Private  133278    HS-grad                9   \n",
       "48772   33      Private   63079    HS-grad                9   \n",
       "\n",
       "           marital-status         occupation   relationship  \\\n",
       "12112  Married-civ-spouse  Machine-op-inspct        Husband   \n",
       "45906       Never-married      Other-service  Not-in-family   \n",
       "8302              Widowed       Adm-clerical      Unmarried   \n",
       "28809       Never-married       Adm-clerical      Own-child   \n",
       "48772            Divorced       Adm-clerical      Unmarried   \n",
       "\n",
       "                     race  gender  capital-gain  capital-loss  hours-per-week  \\\n",
       "12112  Asian-Pac-Islander    Male             0             0              40   \n",
       "45906               Black  Female             0             0              24   \n",
       "8302                White  Female             0             0              40   \n",
       "28809               Black  Female             0             0              40   \n",
       "48772               Black  Female             0             0              40   \n",
       "\n",
       "      native-country income  \n",
       "12112        Vietnam  <=50K  \n",
       "45906        Jamaica  <=50K  \n",
       "8302   United-States  <=50K  \n",
       "28809  United-States  <=50K  \n",
       "48772  United-States  <=50K  "
      ]
     },
     "execution_count": 16,
     "metadata": {},
     "output_type": "execute_result"
    }
   ],
   "source": [
    "adult.sample(5)"
   ]
  },
  {
   "cell_type": "markdown",
   "metadata": {},
   "source": [
    "## From analysis of plots it can be noticed tht:\n",
    "\n",
    "### Core variables are:\n",
    "1. age\n",
    "2. educational-num\n",
    "3. gender\n",
    "4. hours-per-week\n",
    "\n",
    "### Important advanced variables are:\n",
    "1. relationship\n",
    "2. marital-status\n",
    "3. occupation\n",
    "4. fnlwgt\n",
    "5. race\n",
    "6. workclass\n",
    "\n",
    "### Worthless variables are:\n",
    "1. education\n",
    "2. capital-gain\n",
    "3. capital-loss\n",
    "4. native-country\t"
   ]
  },
  {
   "cell_type": "code",
   "execution_count": 17,
   "metadata": {},
   "outputs": [
    {
     "data": {
      "text/html": [
       "<div>\n",
       "<style scoped>\n",
       "    .dataframe tbody tr th:only-of-type {\n",
       "        vertical-align: middle;\n",
       "    }\n",
       "\n",
       "    .dataframe tbody tr th {\n",
       "        vertical-align: top;\n",
       "    }\n",
       "\n",
       "    .dataframe thead th {\n",
       "        text-align: right;\n",
       "    }\n",
       "</style>\n",
       "<table border=\"1\" class=\"dataframe\">\n",
       "  <thead>\n",
       "    <tr style=\"text-align: right;\">\n",
       "      <th></th>\n",
       "      <th>age</th>\n",
       "      <th>workclass</th>\n",
       "      <th>fnlwgt</th>\n",
       "      <th>educational-num</th>\n",
       "      <th>marital-status</th>\n",
       "      <th>occupation</th>\n",
       "      <th>relationship</th>\n",
       "      <th>race</th>\n",
       "      <th>gender</th>\n",
       "      <th>hours-per-week</th>\n",
       "      <th>income</th>\n",
       "    </tr>\n",
       "  </thead>\n",
       "  <tbody>\n",
       "    <tr>\n",
       "      <th>34966</th>\n",
       "      <td>51</td>\n",
       "      <td>Self-emp-not-inc</td>\n",
       "      <td>35295</td>\n",
       "      <td>9</td>\n",
       "      <td>Never-married</td>\n",
       "      <td>Farming-fishing</td>\n",
       "      <td>Unmarried</td>\n",
       "      <td>White</td>\n",
       "      <td>Male</td>\n",
       "      <td>45</td>\n",
       "      <td>&lt;=50K</td>\n",
       "    </tr>\n",
       "    <tr>\n",
       "      <th>17507</th>\n",
       "      <td>36</td>\n",
       "      <td>Private</td>\n",
       "      <td>354078</td>\n",
       "      <td>13</td>\n",
       "      <td>Married-civ-spouse</td>\n",
       "      <td>Prof-specialty</td>\n",
       "      <td>Husband</td>\n",
       "      <td>White</td>\n",
       "      <td>Male</td>\n",
       "      <td>60</td>\n",
       "      <td>&gt;50K</td>\n",
       "    </tr>\n",
       "    <tr>\n",
       "      <th>35705</th>\n",
       "      <td>33</td>\n",
       "      <td>Private</td>\n",
       "      <td>168981</td>\n",
       "      <td>11</td>\n",
       "      <td>Never-married</td>\n",
       "      <td>Prof-specialty</td>\n",
       "      <td>Unmarried</td>\n",
       "      <td>White</td>\n",
       "      <td>Female</td>\n",
       "      <td>55</td>\n",
       "      <td>&lt;=50K</td>\n",
       "    </tr>\n",
       "    <tr>\n",
       "      <th>14957</th>\n",
       "      <td>32</td>\n",
       "      <td>Private</td>\n",
       "      <td>72967</td>\n",
       "      <td>15</td>\n",
       "      <td>Married-civ-spouse</td>\n",
       "      <td>Prof-specialty</td>\n",
       "      <td>Husband</td>\n",
       "      <td>White</td>\n",
       "      <td>Male</td>\n",
       "      <td>25</td>\n",
       "      <td>&gt;50K</td>\n",
       "    </tr>\n",
       "    <tr>\n",
       "      <th>18116</th>\n",
       "      <td>23</td>\n",
       "      <td>Private</td>\n",
       "      <td>64292</td>\n",
       "      <td>9</td>\n",
       "      <td>Never-married</td>\n",
       "      <td>Adm-clerical</td>\n",
       "      <td>Not-in-family</td>\n",
       "      <td>White</td>\n",
       "      <td>Female</td>\n",
       "      <td>40</td>\n",
       "      <td>&lt;=50K</td>\n",
       "    </tr>\n",
       "  </tbody>\n",
       "</table>\n",
       "</div>"
      ],
      "text/plain": [
       "       age         workclass  fnlwgt  educational-num      marital-status  \\\n",
       "34966   51  Self-emp-not-inc   35295                9       Never-married   \n",
       "17507   36           Private  354078               13  Married-civ-spouse   \n",
       "35705   33           Private  168981               11       Never-married   \n",
       "14957   32           Private   72967               15  Married-civ-spouse   \n",
       "18116   23           Private   64292                9       Never-married   \n",
       "\n",
       "            occupation   relationship   race  gender  hours-per-week income  \n",
       "34966  Farming-fishing      Unmarried  White    Male              45  <=50K  \n",
       "17507   Prof-specialty        Husband  White    Male              60   >50K  \n",
       "35705   Prof-specialty      Unmarried  White  Female              55  <=50K  \n",
       "14957   Prof-specialty        Husband  White    Male              25   >50K  \n",
       "18116     Adm-clerical  Not-in-family  White  Female              40  <=50K  "
      ]
     },
     "execution_count": 17,
     "metadata": {},
     "output_type": "execute_result"
    }
   ],
   "source": [
    "adult = adult.drop(['education', 'capital-gain', 'capital-loss', 'native-country'], axis='columns')\n",
    "adult.sample(5)"
   ]
  },
  {
   "cell_type": "markdown",
   "metadata": {},
   "source": [
    "### Data normalizing"
   ]
  },
  {
   "cell_type": "code",
   "execution_count": 18,
   "metadata": {},
   "outputs": [],
   "source": [
    "adult['income'].replace({'>50K' : 1, '<=50K' : 0}, inplace=True)"
   ]
  },
  {
   "cell_type": "code",
   "execution_count": 19,
   "metadata": {},
   "outputs": [],
   "source": [
    "adult['gender'].replace({'Male' : 1, 'Female' : 0}, inplace=True)"
   ]
  },
  {
   "cell_type": "code",
   "execution_count": 20,
   "metadata": {},
   "outputs": [
    {
     "data": {
      "text/html": [
       "<div>\n",
       "<style scoped>\n",
       "    .dataframe tbody tr th:only-of-type {\n",
       "        vertical-align: middle;\n",
       "    }\n",
       "\n",
       "    .dataframe tbody tr th {\n",
       "        vertical-align: top;\n",
       "    }\n",
       "\n",
       "    .dataframe thead th {\n",
       "        text-align: right;\n",
       "    }\n",
       "</style>\n",
       "<table border=\"1\" class=\"dataframe\">\n",
       "  <thead>\n",
       "    <tr style=\"text-align: right;\">\n",
       "      <th></th>\n",
       "      <th>age</th>\n",
       "      <th>workclass</th>\n",
       "      <th>fnlwgt</th>\n",
       "      <th>educational-num</th>\n",
       "      <th>marital-status</th>\n",
       "      <th>occupation</th>\n",
       "      <th>relationship</th>\n",
       "      <th>race</th>\n",
       "      <th>gender</th>\n",
       "      <th>hours-per-week</th>\n",
       "      <th>income</th>\n",
       "    </tr>\n",
       "  </thead>\n",
       "  <tbody>\n",
       "    <tr>\n",
       "      <th>28014</th>\n",
       "      <td>47</td>\n",
       "      <td>Private</td>\n",
       "      <td>223342</td>\n",
       "      <td>9</td>\n",
       "      <td>Divorced</td>\n",
       "      <td>Adm-clerical</td>\n",
       "      <td>Unmarried</td>\n",
       "      <td>White</td>\n",
       "      <td>0</td>\n",
       "      <td>35</td>\n",
       "      <td>0</td>\n",
       "    </tr>\n",
       "    <tr>\n",
       "      <th>21954</th>\n",
       "      <td>35</td>\n",
       "      <td>Private</td>\n",
       "      <td>112271</td>\n",
       "      <td>14</td>\n",
       "      <td>Married-civ-spouse</td>\n",
       "      <td>Adm-clerical</td>\n",
       "      <td>Husband</td>\n",
       "      <td>White</td>\n",
       "      <td>1</td>\n",
       "      <td>40</td>\n",
       "      <td>0</td>\n",
       "    </tr>\n",
       "    <tr>\n",
       "      <th>20268</th>\n",
       "      <td>37</td>\n",
       "      <td>Private</td>\n",
       "      <td>80638</td>\n",
       "      <td>13</td>\n",
       "      <td>Married-civ-spouse</td>\n",
       "      <td>Other-service</td>\n",
       "      <td>Husband</td>\n",
       "      <td>Asian-Pac-Islander</td>\n",
       "      <td>1</td>\n",
       "      <td>30</td>\n",
       "      <td>0</td>\n",
       "    </tr>\n",
       "    <tr>\n",
       "      <th>37779</th>\n",
       "      <td>33</td>\n",
       "      <td>Private</td>\n",
       "      <td>53042</td>\n",
       "      <td>8</td>\n",
       "      <td>Never-married</td>\n",
       "      <td>Craft-repair</td>\n",
       "      <td>Own-child</td>\n",
       "      <td>Black</td>\n",
       "      <td>1</td>\n",
       "      <td>40</td>\n",
       "      <td>0</td>\n",
       "    </tr>\n",
       "    <tr>\n",
       "      <th>33436</th>\n",
       "      <td>32</td>\n",
       "      <td>Private</td>\n",
       "      <td>291147</td>\n",
       "      <td>10</td>\n",
       "      <td>Married-civ-spouse</td>\n",
       "      <td>Sales</td>\n",
       "      <td>Husband</td>\n",
       "      <td>White</td>\n",
       "      <td>1</td>\n",
       "      <td>50</td>\n",
       "      <td>0</td>\n",
       "    </tr>\n",
       "  </tbody>\n",
       "</table>\n",
       "</div>"
      ],
      "text/plain": [
       "       age workclass  fnlwgt  educational-num      marital-status  \\\n",
       "28014   47   Private  223342                9            Divorced   \n",
       "21954   35   Private  112271               14  Married-civ-spouse   \n",
       "20268   37   Private   80638               13  Married-civ-spouse   \n",
       "37779   33   Private   53042                8       Never-married   \n",
       "33436   32   Private  291147               10  Married-civ-spouse   \n",
       "\n",
       "          occupation relationship                race  gender  hours-per-week  \\\n",
       "28014   Adm-clerical    Unmarried               White       0              35   \n",
       "21954   Adm-clerical      Husband               White       1              40   \n",
       "20268  Other-service      Husband  Asian-Pac-Islander       1              30   \n",
       "37779   Craft-repair    Own-child               Black       1              40   \n",
       "33436          Sales      Husband               White       1              50   \n",
       "\n",
       "       income  \n",
       "28014       0  \n",
       "21954       0  \n",
       "20268       0  \n",
       "37779       0  \n",
       "33436       0  "
      ]
     },
     "execution_count": 20,
     "metadata": {},
     "output_type": "execute_result"
    }
   ],
   "source": [
    "adult.sample(5)"
   ]
  },
  {
   "cell_type": "code",
   "execution_count": 21,
   "metadata": {},
   "outputs": [
    {
     "name": "stdout",
     "output_type": "stream",
     "text": [
      "Min = 17, Max = 90, type = int64\n",
      "Min = 0.17, Max = 0.9, type = float64\n"
     ]
    }
   ],
   "source": [
    "print(f'Min = {adult.age.min()}, Max = {adult.age.max()}, type = {adult.age.dtype}')\n",
    "adult.loc[:,'age'] = adult.loc[:,'age'] / 100\n",
    "print(f'Min = {adult.age.min()}, Max = {adult.age.max()}, type = {adult.age.dtype}')"
   ]
  },
  {
   "cell_type": "code",
   "execution_count": 22,
   "metadata": {},
   "outputs": [
    {
     "name": "stdout",
     "output_type": "stream",
     "text": [
      "Min = 1, Max = 16, type = int64\n",
      "Min = 0.01, Max = 0.16, type = float64\n"
     ]
    }
   ],
   "source": [
    "print(f\"Min = {adult['educational-num'].min()}, Max = {adult['educational-num'].max()}, type = {adult['educational-num'].dtype}\")\n",
    "adult.loc[:,'educational-num'] = adult.loc[:,'educational-num'] / 100\n",
    "print(f\"Min = {adult['educational-num'].min()}, Max = {adult['educational-num'].max()}, type = {adult['educational-num'].dtype}\")"
   ]
  },
  {
   "cell_type": "code",
   "execution_count": 23,
   "metadata": {},
   "outputs": [
    {
     "name": "stdout",
     "output_type": "stream",
     "text": [
      "Min = 1, Max = 99, type = int64\n",
      "Min = 0.01, Max = 0.99, type = float64\n"
     ]
    }
   ],
   "source": [
    "print(f\"Min = {adult['hours-per-week'].min()}, Max = {adult['hours-per-week'].max()}, type = {adult['hours-per-week'].dtype}\")\n",
    "adult.loc[:,'hours-per-week'] = adult.loc[:,'hours-per-week'] / 100\n",
    "print(f\"Min = {adult['hours-per-week'].min()}, Max = {adult['hours-per-week'].max()}, type = {adult['hours-per-week'].dtype}\")"
   ]
  },
  {
   "cell_type": "code",
   "execution_count": 24,
   "metadata": {},
   "outputs": [
    {
     "data": {
      "text/html": [
       "<div>\n",
       "<style scoped>\n",
       "    .dataframe tbody tr th:only-of-type {\n",
       "        vertical-align: middle;\n",
       "    }\n",
       "\n",
       "    .dataframe tbody tr th {\n",
       "        vertical-align: top;\n",
       "    }\n",
       "\n",
       "    .dataframe thead th {\n",
       "        text-align: right;\n",
       "    }\n",
       "</style>\n",
       "<table border=\"1\" class=\"dataframe\">\n",
       "  <thead>\n",
       "    <tr style=\"text-align: right;\">\n",
       "      <th></th>\n",
       "      <th>age</th>\n",
       "      <th>workclass</th>\n",
       "      <th>fnlwgt</th>\n",
       "      <th>educational-num</th>\n",
       "      <th>marital-status</th>\n",
       "      <th>occupation</th>\n",
       "      <th>relationship</th>\n",
       "      <th>race</th>\n",
       "      <th>gender</th>\n",
       "      <th>hours-per-week</th>\n",
       "      <th>income</th>\n",
       "    </tr>\n",
       "  </thead>\n",
       "  <tbody>\n",
       "    <tr>\n",
       "      <th>14342</th>\n",
       "      <td>0.23</td>\n",
       "      <td>Private</td>\n",
       "      <td>347867</td>\n",
       "      <td>0.13</td>\n",
       "      <td>Never-married</td>\n",
       "      <td>Adm-clerical</td>\n",
       "      <td>Not-in-family</td>\n",
       "      <td>White</td>\n",
       "      <td>1</td>\n",
       "      <td>0.30</td>\n",
       "      <td>0</td>\n",
       "    </tr>\n",
       "    <tr>\n",
       "      <th>40370</th>\n",
       "      <td>0.35</td>\n",
       "      <td>Self-emp-inc</td>\n",
       "      <td>111319</td>\n",
       "      <td>0.12</td>\n",
       "      <td>Married-civ-spouse</td>\n",
       "      <td>Sales</td>\n",
       "      <td>Husband</td>\n",
       "      <td>White</td>\n",
       "      <td>1</td>\n",
       "      <td>0.45</td>\n",
       "      <td>1</td>\n",
       "    </tr>\n",
       "    <tr>\n",
       "      <th>28292</th>\n",
       "      <td>0.51</td>\n",
       "      <td>Private</td>\n",
       "      <td>169364</td>\n",
       "      <td>0.10</td>\n",
       "      <td>Divorced</td>\n",
       "      <td>Handlers-cleaners</td>\n",
       "      <td>Not-in-family</td>\n",
       "      <td>White</td>\n",
       "      <td>0</td>\n",
       "      <td>0.40</td>\n",
       "      <td>0</td>\n",
       "    </tr>\n",
       "    <tr>\n",
       "      <th>13201</th>\n",
       "      <td>0.21</td>\n",
       "      <td>Private</td>\n",
       "      <td>33432</td>\n",
       "      <td>0.10</td>\n",
       "      <td>Never-married</td>\n",
       "      <td>Prof-specialty</td>\n",
       "      <td>Own-child</td>\n",
       "      <td>White</td>\n",
       "      <td>0</td>\n",
       "      <td>0.08</td>\n",
       "      <td>0</td>\n",
       "    </tr>\n",
       "    <tr>\n",
       "      <th>8302</th>\n",
       "      <td>0.59</td>\n",
       "      <td>Federal-gov</td>\n",
       "      <td>51662</td>\n",
       "      <td>0.09</td>\n",
       "      <td>Widowed</td>\n",
       "      <td>Adm-clerical</td>\n",
       "      <td>Unmarried</td>\n",
       "      <td>White</td>\n",
       "      <td>0</td>\n",
       "      <td>0.40</td>\n",
       "      <td>0</td>\n",
       "    </tr>\n",
       "  </tbody>\n",
       "</table>\n",
       "</div>"
      ],
      "text/plain": [
       "        age     workclass  fnlwgt  educational-num      marital-status  \\\n",
       "14342  0.23       Private  347867             0.13       Never-married   \n",
       "40370  0.35  Self-emp-inc  111319             0.12  Married-civ-spouse   \n",
       "28292  0.51       Private  169364             0.10            Divorced   \n",
       "13201  0.21       Private   33432             0.10       Never-married   \n",
       "8302   0.59   Federal-gov   51662             0.09             Widowed   \n",
       "\n",
       "              occupation   relationship   race  gender  hours-per-week  income  \n",
       "14342       Adm-clerical  Not-in-family  White       1            0.30       0  \n",
       "40370              Sales        Husband  White       1            0.45       1  \n",
       "28292  Handlers-cleaners  Not-in-family  White       0            0.40       0  \n",
       "13201     Prof-specialty      Own-child  White       0            0.08       0  \n",
       "8302        Adm-clerical      Unmarried  White       0            0.40       0  "
      ]
     },
     "execution_count": 24,
     "metadata": {},
     "output_type": "execute_result"
    }
   ],
   "source": [
    "adult.sample(5)"
   ]
  },
  {
   "cell_type": "code",
   "execution_count": 25,
   "metadata": {},
   "outputs": [
    {
     "name": "stdout",
     "output_type": "stream",
     "text": [
      "Min = 0.0, Max = 1.0, type = float64\n"
     ]
    }
   ],
   "source": [
    "from sklearn.preprocessing import MinMaxScaler\n",
    "scaler = MinMaxScaler()\n",
    "adult['fnlwgt'] = scaler.fit_transform(adult[['fnlwgt']])\n",
    "print(f\"Min = {adult['fnlwgt'].min()}, Max = {adult['fnlwgt'].max()}, type = {adult['fnlwgt'].dtype}\")"
   ]
  },
  {
   "cell_type": "code",
   "execution_count": 26,
   "metadata": {},
   "outputs": [
    {
     "data": {
      "text/html": [
       "<div>\n",
       "<style scoped>\n",
       "    .dataframe tbody tr th:only-of-type {\n",
       "        vertical-align: middle;\n",
       "    }\n",
       "\n",
       "    .dataframe tbody tr th {\n",
       "        vertical-align: top;\n",
       "    }\n",
       "\n",
       "    .dataframe thead th {\n",
       "        text-align: right;\n",
       "    }\n",
       "</style>\n",
       "<table border=\"1\" class=\"dataframe\">\n",
       "  <thead>\n",
       "    <tr style=\"text-align: right;\">\n",
       "      <th></th>\n",
       "      <th>age</th>\n",
       "      <th>workclass</th>\n",
       "      <th>fnlwgt</th>\n",
       "      <th>educational-num</th>\n",
       "      <th>marital-status</th>\n",
       "      <th>occupation</th>\n",
       "      <th>relationship</th>\n",
       "      <th>race</th>\n",
       "      <th>gender</th>\n",
       "      <th>hours-per-week</th>\n",
       "      <th>income</th>\n",
       "    </tr>\n",
       "  </thead>\n",
       "  <tbody>\n",
       "    <tr>\n",
       "      <th>30110</th>\n",
       "      <td>0.34</td>\n",
       "      <td>Private</td>\n",
       "      <td>0.092533</td>\n",
       "      <td>0.09</td>\n",
       "      <td>Never-married</td>\n",
       "      <td>Adm-clerical</td>\n",
       "      <td>Own-child</td>\n",
       "      <td>White</td>\n",
       "      <td>1</td>\n",
       "      <td>0.40</td>\n",
       "      <td>0</td>\n",
       "    </tr>\n",
       "    <tr>\n",
       "      <th>12355</th>\n",
       "      <td>0.30</td>\n",
       "      <td>Private</td>\n",
       "      <td>0.033475</td>\n",
       "      <td>0.09</td>\n",
       "      <td>Never-married</td>\n",
       "      <td>Farming-fishing</td>\n",
       "      <td>Own-child</td>\n",
       "      <td>White</td>\n",
       "      <td>1</td>\n",
       "      <td>0.60</td>\n",
       "      <td>0</td>\n",
       "    </tr>\n",
       "    <tr>\n",
       "      <th>15401</th>\n",
       "      <td>0.32</td>\n",
       "      <td>Local-gov</td>\n",
       "      <td>0.133712</td>\n",
       "      <td>0.10</td>\n",
       "      <td>Never-married</td>\n",
       "      <td>Other-service</td>\n",
       "      <td>Unmarried</td>\n",
       "      <td>Black</td>\n",
       "      <td>0</td>\n",
       "      <td>0.40</td>\n",
       "      <td>0</td>\n",
       "    </tr>\n",
       "    <tr>\n",
       "      <th>30533</th>\n",
       "      <td>0.24</td>\n",
       "      <td>Private</td>\n",
       "      <td>0.172219</td>\n",
       "      <td>0.13</td>\n",
       "      <td>Never-married</td>\n",
       "      <td>Prof-specialty</td>\n",
       "      <td>Own-child</td>\n",
       "      <td>Black</td>\n",
       "      <td>0</td>\n",
       "      <td>0.35</td>\n",
       "      <td>0</td>\n",
       "    </tr>\n",
       "    <tr>\n",
       "      <th>31580</th>\n",
       "      <td>0.30</td>\n",
       "      <td>Private</td>\n",
       "      <td>0.108005</td>\n",
       "      <td>0.09</td>\n",
       "      <td>Married-civ-spouse</td>\n",
       "      <td>Adm-clerical</td>\n",
       "      <td>Husband</td>\n",
       "      <td>White</td>\n",
       "      <td>1</td>\n",
       "      <td>0.44</td>\n",
       "      <td>0</td>\n",
       "    </tr>\n",
       "  </tbody>\n",
       "</table>\n",
       "</div>"
      ],
      "text/plain": [
       "        age  workclass    fnlwgt  educational-num      marital-status  \\\n",
       "30110  0.34    Private  0.092533             0.09       Never-married   \n",
       "12355  0.30    Private  0.033475             0.09       Never-married   \n",
       "15401  0.32  Local-gov  0.133712             0.10       Never-married   \n",
       "30533  0.24    Private  0.172219             0.13       Never-married   \n",
       "31580  0.30    Private  0.108005             0.09  Married-civ-spouse   \n",
       "\n",
       "            occupation relationship   race  gender  hours-per-week  income  \n",
       "30110     Adm-clerical    Own-child  White       1            0.40       0  \n",
       "12355  Farming-fishing    Own-child  White       1            0.60       0  \n",
       "15401    Other-service    Unmarried  Black       0            0.40       0  \n",
       "30533   Prof-specialty    Own-child  Black       0            0.35       0  \n",
       "31580     Adm-clerical      Husband  White       1            0.44       0  "
      ]
     },
     "execution_count": 26,
     "metadata": {},
     "output_type": "execute_result"
    }
   ],
   "source": [
    "adult.sample(5)"
   ]
  },
  {
   "cell_type": "code",
   "execution_count": 27,
   "metadata": {},
   "outputs": [
    {
     "data": {
      "text/plain": [
       "(5,)"
      ]
     },
     "execution_count": 27,
     "metadata": {},
     "output_type": "execute_result"
    }
   ],
   "source": [
    "adult['race'].unique().shape"
   ]
  },
  {
   "cell_type": "code",
   "execution_count": 28,
   "metadata": {},
   "outputs": [
    {
     "data": {
      "text/plain": [
       "(7,)"
      ]
     },
     "execution_count": 28,
     "metadata": {},
     "output_type": "execute_result"
    }
   ],
   "source": [
    "adult['workclass'].unique().shape"
   ]
  },
  {
   "cell_type": "code",
   "execution_count": 29,
   "metadata": {},
   "outputs": [
    {
     "data": {
      "text/plain": [
       "(7,)"
      ]
     },
     "execution_count": 29,
     "metadata": {},
     "output_type": "execute_result"
    }
   ],
   "source": [
    "adult['marital-status'].unique().shape"
   ]
  },
  {
   "cell_type": "code",
   "execution_count": 30,
   "metadata": {},
   "outputs": [
    {
     "data": {
      "text/plain": [
       "(14,)"
      ]
     },
     "execution_count": 30,
     "metadata": {},
     "output_type": "execute_result"
    }
   ],
   "source": [
    "adult['occupation'].unique().shape"
   ]
  },
  {
   "cell_type": "code",
   "execution_count": 31,
   "metadata": {},
   "outputs": [
    {
     "data": {
      "text/plain": [
       "(6,)"
      ]
     },
     "execution_count": 31,
     "metadata": {},
     "output_type": "execute_result"
    }
   ],
   "source": [
    "adult['relationship'].unique().shape"
   ]
  },
  {
   "cell_type": "code",
   "execution_count": 32,
   "metadata": {},
   "outputs": [],
   "source": [
    "categorical_variables = ['relationship', 'occupation', 'marital-status', 'workclass', 'race']\n",
    "from sklearn.preprocessing import OneHotEncoder\n",
    "OH_encoder = OneHotEncoder(handle_unknown='ignore', sparse=False)\n",
    "OH_cols = pd.DataFrame(OH_encoder.fit_transform(adult[categorical_variables]))\n",
    "OH_cols.index = adult.index"
   ]
  },
  {
   "cell_type": "code",
   "execution_count": 33,
   "metadata": {},
   "outputs": [],
   "source": [
    "adult.drop(categorical_variables, axis='columns', inplace=True)"
   ]
  },
  {
   "cell_type": "code",
   "execution_count": 34,
   "metadata": {},
   "outputs": [],
   "source": [
    "adult = pd.concat([adult, OH_cols], axis=1)"
   ]
  },
  {
   "cell_type": "code",
   "execution_count": 35,
   "metadata": {},
   "outputs": [],
   "source": [
    "X = adult.drop('income', axis='columns')\n",
    "y = adult['income']\n",
    "\n",
    "from sklearn.linear_model import LogisticRegression\n",
    "from sklearn.svm import SVC\n",
    "from sklearn.ensemble import RandomForestClassifier\n",
    "from sklearn.model_selection import cross_val_score"
   ]
  },
  {
   "cell_type": "code",
   "execution_count": 36,
   "metadata": {},
   "outputs": [
    {
     "data": {
      "text/html": [
       "<div>\n",
       "<style scoped>\n",
       "    .dataframe tbody tr th:only-of-type {\n",
       "        vertical-align: middle;\n",
       "    }\n",
       "\n",
       "    .dataframe tbody tr th {\n",
       "        vertical-align: top;\n",
       "    }\n",
       "\n",
       "    .dataframe thead th {\n",
       "        text-align: right;\n",
       "    }\n",
       "</style>\n",
       "<table border=\"1\" class=\"dataframe\">\n",
       "  <thead>\n",
       "    <tr style=\"text-align: right;\">\n",
       "      <th></th>\n",
       "      <th>age</th>\n",
       "      <th>fnlwgt</th>\n",
       "      <th>educational-num</th>\n",
       "      <th>gender</th>\n",
       "      <th>hours-per-week</th>\n",
       "      <th>0</th>\n",
       "      <th>1</th>\n",
       "      <th>2</th>\n",
       "      <th>3</th>\n",
       "      <th>4</th>\n",
       "      <th>...</th>\n",
       "      <th>29</th>\n",
       "      <th>30</th>\n",
       "      <th>31</th>\n",
       "      <th>32</th>\n",
       "      <th>33</th>\n",
       "      <th>34</th>\n",
       "      <th>35</th>\n",
       "      <th>36</th>\n",
       "      <th>37</th>\n",
       "      <th>38</th>\n",
       "    </tr>\n",
       "  </thead>\n",
       "  <tbody>\n",
       "    <tr>\n",
       "      <th>32483</th>\n",
       "      <td>0.19</td>\n",
       "      <td>0.184514</td>\n",
       "      <td>0.10</td>\n",
       "      <td>1</td>\n",
       "      <td>0.3</td>\n",
       "      <td>0.0</td>\n",
       "      <td>0.0</td>\n",
       "      <td>1.0</td>\n",
       "      <td>0.0</td>\n",
       "      <td>0.0</td>\n",
       "      <td>...</td>\n",
       "      <td>1.0</td>\n",
       "      <td>0.0</td>\n",
       "      <td>0.0</td>\n",
       "      <td>0.0</td>\n",
       "      <td>0.0</td>\n",
       "      <td>0.0</td>\n",
       "      <td>0.0</td>\n",
       "      <td>0.0</td>\n",
       "      <td>0.0</td>\n",
       "      <td>1.0</td>\n",
       "    </tr>\n",
       "    <tr>\n",
       "      <th>16536</th>\n",
       "      <td>0.42</td>\n",
       "      <td>0.196053</td>\n",
       "      <td>0.09</td>\n",
       "      <td>1</td>\n",
       "      <td>0.4</td>\n",
       "      <td>1.0</td>\n",
       "      <td>0.0</td>\n",
       "      <td>0.0</td>\n",
       "      <td>0.0</td>\n",
       "      <td>0.0</td>\n",
       "      <td>...</td>\n",
       "      <td>0.0</td>\n",
       "      <td>0.0</td>\n",
       "      <td>1.0</td>\n",
       "      <td>0.0</td>\n",
       "      <td>0.0</td>\n",
       "      <td>0.0</td>\n",
       "      <td>1.0</td>\n",
       "      <td>0.0</td>\n",
       "      <td>0.0</td>\n",
       "      <td>0.0</td>\n",
       "    </tr>\n",
       "    <tr>\n",
       "      <th>9090</th>\n",
       "      <td>0.28</td>\n",
       "      <td>0.161779</td>\n",
       "      <td>0.11</td>\n",
       "      <td>1</td>\n",
       "      <td>0.4</td>\n",
       "      <td>0.0</td>\n",
       "      <td>0.0</td>\n",
       "      <td>0.0</td>\n",
       "      <td>1.0</td>\n",
       "      <td>0.0</td>\n",
       "      <td>...</td>\n",
       "      <td>1.0</td>\n",
       "      <td>0.0</td>\n",
       "      <td>0.0</td>\n",
       "      <td>0.0</td>\n",
       "      <td>0.0</td>\n",
       "      <td>0.0</td>\n",
       "      <td>0.0</td>\n",
       "      <td>1.0</td>\n",
       "      <td>0.0</td>\n",
       "      <td>0.0</td>\n",
       "    </tr>\n",
       "    <tr>\n",
       "      <th>11814</th>\n",
       "      <td>0.62</td>\n",
       "      <td>0.082122</td>\n",
       "      <td>0.10</td>\n",
       "      <td>0</td>\n",
       "      <td>0.4</td>\n",
       "      <td>0.0</td>\n",
       "      <td>1.0</td>\n",
       "      <td>0.0</td>\n",
       "      <td>0.0</td>\n",
       "      <td>0.0</td>\n",
       "      <td>...</td>\n",
       "      <td>1.0</td>\n",
       "      <td>0.0</td>\n",
       "      <td>0.0</td>\n",
       "      <td>0.0</td>\n",
       "      <td>0.0</td>\n",
       "      <td>0.0</td>\n",
       "      <td>0.0</td>\n",
       "      <td>0.0</td>\n",
       "      <td>0.0</td>\n",
       "      <td>1.0</td>\n",
       "    </tr>\n",
       "    <tr>\n",
       "      <th>9311</th>\n",
       "      <td>0.46</td>\n",
       "      <td>0.167438</td>\n",
       "      <td>0.14</td>\n",
       "      <td>0</td>\n",
       "      <td>0.4</td>\n",
       "      <td>0.0</td>\n",
       "      <td>1.0</td>\n",
       "      <td>0.0</td>\n",
       "      <td>0.0</td>\n",
       "      <td>0.0</td>\n",
       "      <td>...</td>\n",
       "      <td>0.0</td>\n",
       "      <td>0.0</td>\n",
       "      <td>0.0</td>\n",
       "      <td>1.0</td>\n",
       "      <td>0.0</td>\n",
       "      <td>0.0</td>\n",
       "      <td>0.0</td>\n",
       "      <td>0.0</td>\n",
       "      <td>0.0</td>\n",
       "      <td>1.0</td>\n",
       "    </tr>\n",
       "  </tbody>\n",
       "</table>\n",
       "<p>5 rows × 44 columns</p>\n",
       "</div>"
      ],
      "text/plain": [
       "        age    fnlwgt  educational-num  gender  hours-per-week    0    1    2  \\\n",
       "32483  0.19  0.184514             0.10       1             0.3  0.0  0.0  1.0   \n",
       "16536  0.42  0.196053             0.09       1             0.4  1.0  0.0  0.0   \n",
       "9090   0.28  0.161779             0.11       1             0.4  0.0  0.0  0.0   \n",
       "11814  0.62  0.082122             0.10       0             0.4  0.0  1.0  0.0   \n",
       "9311   0.46  0.167438             0.14       0             0.4  0.0  1.0  0.0   \n",
       "\n",
       "         3    4  ...   29   30   31   32   33   34   35   36   37   38  \n",
       "32483  0.0  0.0  ...  1.0  0.0  0.0  0.0  0.0  0.0  0.0  0.0  0.0  1.0  \n",
       "16536  0.0  0.0  ...  0.0  0.0  1.0  0.0  0.0  0.0  1.0  0.0  0.0  0.0  \n",
       "9090   1.0  0.0  ...  1.0  0.0  0.0  0.0  0.0  0.0  0.0  1.0  0.0  0.0  \n",
       "11814  0.0  0.0  ...  1.0  0.0  0.0  0.0  0.0  0.0  0.0  0.0  0.0  1.0  \n",
       "9311   0.0  0.0  ...  0.0  0.0  0.0  1.0  0.0  0.0  0.0  0.0  0.0  1.0  \n",
       "\n",
       "[5 rows x 44 columns]"
      ]
     },
     "execution_count": 36,
     "metadata": {},
     "output_type": "execute_result"
    }
   ],
   "source": [
    "X.sample(5)"
   ]
  },
  {
   "cell_type": "code",
   "execution_count": 206,
   "metadata": {},
   "outputs": [
    {
     "data": {
      "text/plain": [
       "25827    0\n",
       "20278    0\n",
       "28566    0\n",
       "40910    0\n",
       "4429     0\n",
       "Name: income, dtype: int64"
      ]
     },
     "execution_count": 206,
     "metadata": {},
     "output_type": "execute_result"
    }
   ],
   "source": [
    "y.sample(5)"
   ]
  },
  {
   "cell_type": "code",
   "execution_count": 207,
   "metadata": {},
   "outputs": [
    {
     "name": "stderr",
     "output_type": "stream",
     "text": [
      "D:\\Python\\lib\\site-packages\\sklearn\\linear_model\\_logistic.py:763: ConvergenceWarning: lbfgs failed to converge (status=1):\n",
      "STOP: TOTAL NO. of ITERATIONS REACHED LIMIT.\n",
      "\n",
      "Increase the number of iterations (max_iter) or scale the data as shown in:\n",
      "    https://scikit-learn.org/stable/modules/preprocessing.html\n",
      "Please also refer to the documentation for alternative solver options:\n",
      "    https://scikit-learn.org/stable/modules/linear_model.html#logistic-regression\n",
      "  n_iter_i = _check_optimize_result(\n",
      "D:\\Python\\lib\\site-packages\\sklearn\\linear_model\\_logistic.py:763: ConvergenceWarning: lbfgs failed to converge (status=1):\n",
      "STOP: TOTAL NO. of ITERATIONS REACHED LIMIT.\n",
      "\n",
      "Increase the number of iterations (max_iter) or scale the data as shown in:\n",
      "    https://scikit-learn.org/stable/modules/preprocessing.html\n",
      "Please also refer to the documentation for alternative solver options:\n",
      "    https://scikit-learn.org/stable/modules/linear_model.html#logistic-regression\n",
      "  n_iter_i = _check_optimize_result(\n",
      "D:\\Python\\lib\\site-packages\\sklearn\\linear_model\\_logistic.py:763: ConvergenceWarning: lbfgs failed to converge (status=1):\n",
      "STOP: TOTAL NO. of ITERATIONS REACHED LIMIT.\n",
      "\n",
      "Increase the number of iterations (max_iter) or scale the data as shown in:\n",
      "    https://scikit-learn.org/stable/modules/preprocessing.html\n",
      "Please also refer to the documentation for alternative solver options:\n",
      "    https://scikit-learn.org/stable/modules/linear_model.html#logistic-regression\n",
      "  n_iter_i = _check_optimize_result(\n"
     ]
    }
   ],
   "source": [
    "logistic_regression_score = np.average(cross_val_score(LogisticRegression(), X, y, cv=3))"
   ]
  },
  {
   "cell_type": "code",
   "execution_count": 208,
   "metadata": {},
   "outputs": [
    {
     "name": "stdout",
     "output_type": "stream",
     "text": [
      "Logistic Regression = 0.8280704082083942\n"
     ]
    }
   ],
   "source": [
    "print(f'Logistic Regression = {logistic_regression_score}')"
   ]
  },
  {
   "cell_type": "code",
   "execution_count": 209,
   "metadata": {},
   "outputs": [],
   "source": [
    "random_forest_score = np.average(cross_val_score(RandomForestClassifier(n_estimators=100), X, y, cv = 3))"
   ]
  },
  {
   "cell_type": "code",
   "execution_count": 210,
   "metadata": {},
   "outputs": [
    {
     "name": "stdout",
     "output_type": "stream",
     "text": [
      "Random Forest = 0.8221662022909203\n"
     ]
    }
   ],
   "source": [
    "print(f'Random Forest = {random_forest_score}')"
   ]
  },
  {
   "cell_type": "code",
   "execution_count": 211,
   "metadata": {},
   "outputs": [],
   "source": [
    "svc = {np.average(cross_val_score(SVC(), X, y, cv = 3))}"
   ]
  },
  {
   "cell_type": "code",
   "execution_count": 212,
   "metadata": {},
   "outputs": [
    {
     "name": "stdout",
     "output_type": "stream",
     "text": [
      "Support Vector Machine = {0.819225155897572}\n"
     ]
    }
   ],
   "source": [
    "print(f'Support Vector Machine = {svc}')"
   ]
  },
  {
   "cell_type": "code",
   "execution_count": 47,
   "metadata": {},
   "outputs": [
    {
     "name": "stdout",
     "output_type": "stream",
     "text": [
      "(36177, 44) (36177,) (9045, 44) (9045,)\n",
      "Epoch 1/50\n",
      "1131/1131 [==============================] - 5s 4ms/step - loss: 0.4310 - accuracy: 0.7868 - val_loss: 0.3833 - val_accuracy: 0.8214\n",
      "Epoch 2/50\n",
      "1131/1131 [==============================] - 4s 4ms/step - loss: 0.4049 - accuracy: 0.8063 - val_loss: 0.3742 - val_accuracy: 0.8253\n",
      "Epoch 3/50\n",
      "1131/1131 [==============================] - 5s 4ms/step - loss: 0.3945 - accuracy: 0.8124 - val_loss: 0.3781 - val_accuracy: 0.8252\n",
      "Epoch 4/50\n",
      "1131/1131 [==============================] - 4s 4ms/step - loss: 0.3885 - accuracy: 0.8154 - val_loss: 0.3674 - val_accuracy: 0.8275\n",
      "Epoch 5/50\n",
      "1131/1131 [==============================] - 4s 4ms/step - loss: 0.3870 - accuracy: 0.8157 - val_loss: 0.3603 - val_accuracy: 0.8285\n",
      "Epoch 6/50\n",
      "1131/1131 [==============================] - 4s 4ms/step - loss: 0.3848 - accuracy: 0.8181 - val_loss: 0.3606 - val_accuracy: 0.8313\n",
      "Epoch 7/50\n",
      "1131/1131 [==============================] - 4s 4ms/step - loss: 0.3807 - accuracy: 0.8181 - val_loss: 0.3570 - val_accuracy: 0.8296\n",
      "Epoch 8/50\n",
      "1131/1131 [==============================] - 4s 4ms/step - loss: 0.3767 - accuracy: 0.8214 - val_loss: 0.3609 - val_accuracy: 0.8320\n",
      "Epoch 9/50\n",
      "1131/1131 [==============================] - 4s 4ms/step - loss: 0.3767 - accuracy: 0.8212 - val_loss: 0.3564 - val_accuracy: 0.8357\n",
      "Epoch 10/50\n",
      "1131/1131 [==============================] - 4s 4ms/step - loss: 0.3750 - accuracy: 0.8228 - val_loss: 0.3575 - val_accuracy: 0.8332\n",
      "Epoch 11/50\n",
      "1131/1131 [==============================] - 4s 4ms/step - loss: 0.3733 - accuracy: 0.8239 - val_loss: 0.3537 - val_accuracy: 0.8335\n",
      "Epoch 12/50\n",
      "1131/1131 [==============================] - 5s 4ms/step - loss: 0.3729 - accuracy: 0.8226 - val_loss: 0.3520 - val_accuracy: 0.8364\n",
      "Epoch 13/50\n",
      "1131/1131 [==============================] - 4s 3ms/step - loss: 0.3729 - accuracy: 0.8240 - val_loss: 0.3553 - val_accuracy: 0.8364\n",
      "Epoch 14/50\n",
      "1131/1131 [==============================] - 4s 4ms/step - loss: 0.3684 - accuracy: 0.8243 - val_loss: 0.3551 - val_accuracy: 0.8386\n",
      "Epoch 15/50\n",
      "1131/1131 [==============================] - 4s 3ms/step - loss: 0.3695 - accuracy: 0.8250 - val_loss: 0.3530 - val_accuracy: 0.8355\n",
      "Epoch 16/50\n",
      "1131/1131 [==============================] - 6s 5ms/step - loss: 0.3689 - accuracy: 0.8251 - val_loss: 0.3575 - val_accuracy: 0.8326\n",
      "Epoch 17/50\n",
      "1131/1131 [==============================] - 5s 5ms/step - loss: 0.3680 - accuracy: 0.8254 - val_loss: 0.3530 - val_accuracy: 0.8391\n",
      "Epoch 18/50\n",
      "1131/1131 [==============================] - 5s 4ms/step - loss: 0.3658 - accuracy: 0.8278 - val_loss: 0.3518 - val_accuracy: 0.8399\n",
      "Epoch 19/50\n",
      "1131/1131 [==============================] - 4s 4ms/step - loss: 0.3670 - accuracy: 0.8290 - val_loss: 0.3578 - val_accuracy: 0.8386\n",
      "Epoch 20/50\n",
      "1131/1131 [==============================] - 4s 4ms/step - loss: 0.3656 - accuracy: 0.8284 - val_loss: 0.3554 - val_accuracy: 0.8392\n",
      "Epoch 21/50\n",
      "1131/1131 [==============================] - 4s 4ms/step - loss: 0.3661 - accuracy: 0.8245 - val_loss: 0.3509 - val_accuracy: 0.8370\n",
      "Epoch 22/50\n",
      "1131/1131 [==============================] - 4s 4ms/step - loss: 0.3637 - accuracy: 0.8269 - val_loss: 0.3595 - val_accuracy: 0.8396\n",
      "Epoch 23/50\n",
      "1131/1131 [==============================] - 4s 4ms/step - loss: 0.3635 - accuracy: 0.8273 - val_loss: 0.3529 - val_accuracy: 0.8363\n",
      "Epoch 24/50\n",
      "1131/1131 [==============================] - 4s 4ms/step - loss: 0.3634 - accuracy: 0.8283 - val_loss: 0.3561 - val_accuracy: 0.8388\n",
      "Epoch 25/50\n",
      "1131/1131 [==============================] - 4s 4ms/step - loss: 0.3600 - accuracy: 0.8285 - val_loss: 0.3537 - val_accuracy: 0.8383\n",
      "Epoch 26/50\n",
      "1131/1131 [==============================] - 4s 4ms/step - loss: 0.3623 - accuracy: 0.8283 - val_loss: 0.3655 - val_accuracy: 0.8384\n",
      "Epoch 27/50\n",
      "1131/1131 [==============================] - 4s 4ms/step - loss: 0.3598 - accuracy: 0.8275 - val_loss: 0.3559 - val_accuracy: 0.8368\n",
      "Epoch 28/50\n",
      "1131/1131 [==============================] - 4s 4ms/step - loss: 0.3600 - accuracy: 0.8287 - val_loss: 0.3577 - val_accuracy: 0.8341\n",
      "Epoch 29/50\n",
      "1131/1131 [==============================] - 4s 4ms/step - loss: 0.3601 - accuracy: 0.8307 - val_loss: 0.3565 - val_accuracy: 0.8388\n",
      "Epoch 30/50\n",
      "1131/1131 [==============================] - 4s 4ms/step - loss: 0.3588 - accuracy: 0.8314 - val_loss: 0.3582 - val_accuracy: 0.8384\n",
      "Epoch 31/50\n",
      "1131/1131 [==============================] - 4s 3ms/step - loss: 0.3561 - accuracy: 0.8311 - val_loss: 0.3557 - val_accuracy: 0.8380\n",
      "Epoch 32/50\n",
      "1131/1131 [==============================] - 4s 4ms/step - loss: 0.3592 - accuracy: 0.8316 - val_loss: 0.3574 - val_accuracy: 0.8402\n",
      "Epoch 33/50\n",
      "1131/1131 [==============================] - 5s 4ms/step - loss: 0.3575 - accuracy: 0.8299 - val_loss: 0.3607 - val_accuracy: 0.8395\n",
      "Epoch 34/50\n",
      "1131/1131 [==============================] - 5s 4ms/step - loss: 0.3579 - accuracy: 0.8304 - val_loss: 0.3616 - val_accuracy: 0.8365\n",
      "Epoch 35/50\n",
      "1131/1131 [==============================] - 4s 4ms/step - loss: 0.3572 - accuracy: 0.8294 - val_loss: 0.3636 - val_accuracy: 0.8373\n",
      "Epoch 36/50\n",
      "1131/1131 [==============================] - 4s 4ms/step - loss: 0.3561 - accuracy: 0.8309 - val_loss: 0.3638 - val_accuracy: 0.8385\n",
      "Epoch 37/50\n",
      "1131/1131 [==============================] - 4s 4ms/step - loss: 0.3573 - accuracy: 0.8298 - val_loss: 0.3645 - val_accuracy: 0.8387\n",
      "Epoch 38/50\n",
      "1131/1131 [==============================] - 4s 4ms/step - loss: 0.3556 - accuracy: 0.8305 - val_loss: 0.3617 - val_accuracy: 0.8350\n",
      "Epoch 39/50\n",
      "1131/1131 [==============================] - 5s 4ms/step - loss: 0.3554 - accuracy: 0.8287 - val_loss: 0.3628 - val_accuracy: 0.8402\n",
      "Epoch 40/50\n",
      "1131/1131 [==============================] - 5s 5ms/step - loss: 0.3541 - accuracy: 0.8315 - val_loss: 0.3623 - val_accuracy: 0.8368\n",
      "Epoch 41/50\n",
      "1131/1131 [==============================] - 4s 3ms/step - loss: 0.3553 - accuracy: 0.8310 - val_loss: 0.3657 - val_accuracy: 0.8373\n",
      "Epoch 42/50\n",
      "1131/1131 [==============================] - 4s 3ms/step - loss: 0.3560 - accuracy: 0.8299 - val_loss: 0.3661 - val_accuracy: 0.8368\n",
      "Epoch 43/50\n",
      "1131/1131 [==============================] - 4s 3ms/step - loss: 0.3547 - accuracy: 0.8318 - val_loss: 0.3697 - val_accuracy: 0.8389\n",
      "Epoch 44/50\n",
      "1131/1131 [==============================] - 3s 3ms/step - loss: 0.3537 - accuracy: 0.8309 - val_loss: 0.3661 - val_accuracy: 0.8383\n",
      "Epoch 45/50\n",
      "1131/1131 [==============================] - 4s 3ms/step - loss: 0.3541 - accuracy: 0.8304 - val_loss: 0.3653 - val_accuracy: 0.8376\n",
      "Epoch 46/50\n",
      "1131/1131 [==============================] - 4s 3ms/step - loss: 0.3535 - accuracy: 0.8331 - val_loss: 0.3734 - val_accuracy: 0.8349\n",
      "Epoch 47/50\n",
      "1131/1131 [==============================] - 3s 3ms/step - loss: 0.3535 - accuracy: 0.8304 - val_loss: 0.3696 - val_accuracy: 0.8389\n",
      "Epoch 48/50\n",
      "1131/1131 [==============================] - 3s 3ms/step - loss: 0.3537 - accuracy: 0.8321 - val_loss: 0.3693 - val_accuracy: 0.8380\n",
      "Epoch 49/50\n",
      "1131/1131 [==============================] - 4s 3ms/step - loss: 0.3528 - accuracy: 0.8335 - val_loss: 0.3711 - val_accuracy: 0.8391\n",
      "Epoch 50/50\n",
      "1131/1131 [==============================] - 4s 3ms/step - loss: 0.3516 - accuracy: 0.8310 - val_loss: 0.3743 - val_accuracy: 0.8402\n",
      "\n",
      "283/283 [==============================] - 1s 2ms/step - loss: 0.3743 - accuracy: 0.8402\n",
      "Simple Neural Network = [0.3742736577987671, 0.8402432203292847]\n"
     ]
    },
    {
     "data": {
      "image/png": "[encoded data removed]",
      "text/plain": [
       "<Figure size 432x288 with 1 Axes>"
      ]
     },
     "metadata": {
      "needs_background": "light"
     },
     "output_type": "display_data"
    }
   ],
   "source": [
    "from sklearn.model_selection import train_test_split\n",
    "X_train, X_test, y_train, y_test = train_test_split(X, y, test_size=.2)\n",
    "print(X_train.shape, y_train.shape, X_test.shape, y_test.shape)\n",
    "\n",
    "import tensorflow as tf\n",
    "from tensorflow import keras\n",
    "\n",
    "model = keras.Sequential([\n",
    "    keras.layers.Dense(132, activation='relu', input_shape=(44,)),\n",
    "    keras.layers.Dropout(.2),\n",
    "    keras.layers.Dense(64, activation='relu'),\n",
    "    keras.layers.Dropout(.4),\n",
    "    keras.layers.Dense(20, activation='relu'),\n",
    "    keras.layers.Dropout(.6),\n",
    "    keras.layers.Dense(1, activation='sigmoid')\n",
    "])\n",
    "\n",
    "model.compile(\n",
    "    optimizer = 'Adam',\n",
    "    loss = 'binary_crossentropy',\n",
    "    metrics=['accuracy']\n",
    ")\n",
    "\n",
    "history = model.fit(\n",
    "    X_train, y_train,\n",
    "    validation_data = (X_test, y_test),\n",
    "    epochs=50\n",
    ")\n",
    "\n",
    "history_to_plot = pd.DataFrame(history.history)\n",
    "history_to_plot.plot()\n",
    "\n",
    "print('')\n",
    "print(f'Simple Neural Network = {model.evaluate(X_test, y_test)}')"
   ]
  },
  {
   "cell_type": "markdown",
   "metadata": {},
   "source": [
    "### In this case accuracy of every model has icresed to 82-84%. Still neural network has best performance but only slightly. This shows that variables used in pervous simple models (age, educational num, hours per week and gender) are most important for the problem but some of other variables like race, martial status, occupation are still valiable for analysis and building models"
   ]
  }
 ],
 "metadata": {
  "interpreter": {
   "hash": "4ce0e62306dd6a5716965d4519ada776f947e6dfc145b604b11307c10277ef29"
  },
  "kernelspec": {
   "display_name": "Python 3.9.2 64-bit",
   "language": "python",
   "name": "python3"
  },
  "language_info": {
   "codemirror_mode": {
    "name": "ipython",
    "version": 3
   },
   "file_extension": ".py",
   "mimetype": "text/x-python",
   "name": "python",
   "nbconvert_exporter": "python",
   "pygments_lexer": "ipython3",
   "version": "3.9.2"
  },
  "orig_nbformat": 4
 },
 "nbformat": 4,
 "nbformat_minor": 2
}
