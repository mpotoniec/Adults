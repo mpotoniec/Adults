{
 "cells": [
  {
   "cell_type": "markdown",
   "metadata": {},
   "source": [
    "### Building Models with some of most inportant data"
   ]
  },
  {
   "cell_type": "code",
   "execution_count": 18,
   "metadata": {},
   "outputs": [],
   "source": [
    "import pandas as pd\n",
    "import numpy as np"
   ]
  },
  {
   "cell_type": "code",
   "execution_count": 19,
   "metadata": {},
   "outputs": [],
   "source": [
    "adult = pd.read_csv('adult.csv')"
   ]
  },
  {
   "cell_type": "markdown",
   "metadata": {},
   "source": [
    "### Data normalizing"
   ]
  },
  {
   "cell_type": "code",
   "execution_count": 20,
   "metadata": {},
   "outputs": [],
   "source": [
    "adult['income'].replace({'>50K' : 1, '<=50K' : 0}, inplace=True)"
   ]
  },
  {
   "cell_type": "code",
   "execution_count": 21,
   "metadata": {},
   "outputs": [],
   "source": [
    "adult['gender'].replace({'Male' : 1, 'Female' : 0}, inplace=True)"
   ]
  },
  {
   "cell_type": "code",
   "execution_count": 22,
   "metadata": {},
   "outputs": [
    {
     "data": {
      "text/html": [
       "<div>\n",
       "<style scoped>\n",
       "    .dataframe tbody tr th:only-of-type {\n",
       "        vertical-align: middle;\n",
       "    }\n",
       "\n",
       "    .dataframe tbody tr th {\n",
       "        vertical-align: top;\n",
       "    }\n",
       "\n",
       "    .dataframe thead th {\n",
       "        text-align: right;\n",
       "    }\n",
       "</style>\n",
       "<table border=\"1\" class=\"dataframe\">\n",
       "  <thead>\n",
       "    <tr style=\"text-align: right;\">\n",
       "      <th></th>\n",
       "      <th>age</th>\n",
       "      <th>workclass</th>\n",
       "      <th>fnlwgt</th>\n",
       "      <th>education</th>\n",
       "      <th>educational-num</th>\n",
       "      <th>marital-status</th>\n",
       "      <th>occupation</th>\n",
       "      <th>relationship</th>\n",
       "      <th>race</th>\n",
       "      <th>gender</th>\n",
       "      <th>capital-gain</th>\n",
       "      <th>capital-loss</th>\n",
       "      <th>hours-per-week</th>\n",
       "      <th>native-country</th>\n",
       "      <th>income</th>\n",
       "    </tr>\n",
       "  </thead>\n",
       "  <tbody>\n",
       "    <tr>\n",
       "      <th>47152</th>\n",
       "      <td>26</td>\n",
       "      <td>Private</td>\n",
       "      <td>160261</td>\n",
       "      <td>Masters</td>\n",
       "      <td>14</td>\n",
       "      <td>Never-married</td>\n",
       "      <td>Prof-specialty</td>\n",
       "      <td>Not-in-family</td>\n",
       "      <td>Asian-Pac-Islander</td>\n",
       "      <td>1</td>\n",
       "      <td>0</td>\n",
       "      <td>0</td>\n",
       "      <td>20</td>\n",
       "      <td>India</td>\n",
       "      <td>0</td>\n",
       "    </tr>\n",
       "    <tr>\n",
       "      <th>27745</th>\n",
       "      <td>69</td>\n",
       "      <td>Private</td>\n",
       "      <td>108196</td>\n",
       "      <td>9th</td>\n",
       "      <td>5</td>\n",
       "      <td>Never-married</td>\n",
       "      <td>Craft-repair</td>\n",
       "      <td>Other-relative</td>\n",
       "      <td>White</td>\n",
       "      <td>1</td>\n",
       "      <td>2993</td>\n",
       "      <td>0</td>\n",
       "      <td>40</td>\n",
       "      <td>United-States</td>\n",
       "      <td>0</td>\n",
       "    </tr>\n",
       "    <tr>\n",
       "      <th>24059</th>\n",
       "      <td>25</td>\n",
       "      <td>Private</td>\n",
       "      <td>102460</td>\n",
       "      <td>Bachelors</td>\n",
       "      <td>13</td>\n",
       "      <td>Married-civ-spouse</td>\n",
       "      <td>Exec-managerial</td>\n",
       "      <td>Husband</td>\n",
       "      <td>White</td>\n",
       "      <td>1</td>\n",
       "      <td>0</td>\n",
       "      <td>0</td>\n",
       "      <td>40</td>\n",
       "      <td>United-States</td>\n",
       "      <td>0</td>\n",
       "    </tr>\n",
       "    <tr>\n",
       "      <th>10100</th>\n",
       "      <td>20</td>\n",
       "      <td>?</td>\n",
       "      <td>224238</td>\n",
       "      <td>Some-college</td>\n",
       "      <td>10</td>\n",
       "      <td>Never-married</td>\n",
       "      <td>?</td>\n",
       "      <td>Own-child</td>\n",
       "      <td>White</td>\n",
       "      <td>1</td>\n",
       "      <td>0</td>\n",
       "      <td>0</td>\n",
       "      <td>6</td>\n",
       "      <td>United-States</td>\n",
       "      <td>0</td>\n",
       "    </tr>\n",
       "    <tr>\n",
       "      <th>2600</th>\n",
       "      <td>44</td>\n",
       "      <td>Private</td>\n",
       "      <td>179666</td>\n",
       "      <td>Assoc-acdm</td>\n",
       "      <td>12</td>\n",
       "      <td>Never-married</td>\n",
       "      <td>Tech-support</td>\n",
       "      <td>Not-in-family</td>\n",
       "      <td>White</td>\n",
       "      <td>1</td>\n",
       "      <td>0</td>\n",
       "      <td>0</td>\n",
       "      <td>40</td>\n",
       "      <td>United-States</td>\n",
       "      <td>0</td>\n",
       "    </tr>\n",
       "  </tbody>\n",
       "</table>\n",
       "</div>"
      ],
      "text/plain": [
       "       age workclass  fnlwgt     education  educational-num  \\\n",
       "47152   26   Private  160261       Masters               14   \n",
       "27745   69   Private  108196           9th                5   \n",
       "24059   25   Private  102460     Bachelors               13   \n",
       "10100   20         ?  224238  Some-college               10   \n",
       "2600    44   Private  179666    Assoc-acdm               12   \n",
       "\n",
       "           marital-status       occupation    relationship  \\\n",
       "47152       Never-married   Prof-specialty   Not-in-family   \n",
       "27745       Never-married     Craft-repair  Other-relative   \n",
       "24059  Married-civ-spouse  Exec-managerial         Husband   \n",
       "10100       Never-married                ?       Own-child   \n",
       "2600        Never-married     Tech-support   Not-in-family   \n",
       "\n",
       "                     race  gender  capital-gain  capital-loss  hours-per-week  \\\n",
       "47152  Asian-Pac-Islander       1             0             0              20   \n",
       "27745               White       1          2993             0              40   \n",
       "24059               White       1             0             0              40   \n",
       "10100               White       1             0             0               6   \n",
       "2600                White       1             0             0              40   \n",
       "\n",
       "      native-country  income  \n",
       "47152          India       0  \n",
       "27745  United-States       0  \n",
       "24059  United-States       0  \n",
       "10100  United-States       0  \n",
       "2600   United-States       0  "
      ]
     },
     "execution_count": 22,
     "metadata": {},
     "output_type": "execute_result"
    }
   ],
   "source": [
    "adult.sample(5)"
   ]
  },
  {
   "cell_type": "code",
   "execution_count": 23,
   "metadata": {},
   "outputs": [
    {
     "name": "stdout",
     "output_type": "stream",
     "text": [
      "Min = 17, Max = 90, type = int64\n",
      "Min = 0.17, Max = 0.9, type = float64\n"
     ]
    }
   ],
   "source": [
    "print(f'Min = {adult.age.min()}, Max = {adult.age.max()}, type = {adult.age.dtype}')\n",
    "adult.loc[:,'age'] = adult.loc[:,'age'] / 100\n",
    "print(f'Min = {adult.age.min()}, Max = {adult.age.max()}, type = {adult.age.dtype}')"
   ]
  },
  {
   "cell_type": "code",
   "execution_count": 24,
   "metadata": {},
   "outputs": [
    {
     "name": "stdout",
     "output_type": "stream",
     "text": [
      "Min = 1, Max = 16, type = int64\n",
      "Min = 0.01, Max = 0.16, type = float64\n"
     ]
    }
   ],
   "source": [
    "print(f\"Min = {adult['educational-num'].min()}, Max = {adult['educational-num'].max()}, type = {adult['educational-num'].dtype}\")\n",
    "adult.loc[:,'educational-num'] = adult.loc[:,'educational-num'] / 100\n",
    "print(f\"Min = {adult['educational-num'].min()}, Max = {adult['educational-num'].max()}, type = {adult['educational-num'].dtype}\")"
   ]
  },
  {
   "cell_type": "code",
   "execution_count": 25,
   "metadata": {},
   "outputs": [
    {
     "name": "stdout",
     "output_type": "stream",
     "text": [
      "Min = 1, Max = 99, type = int64\n",
      "Min = 0.01, Max = 0.99, type = float64\n"
     ]
    }
   ],
   "source": [
    "print(f\"Min = {adult['hours-per-week'].min()}, Max = {adult['hours-per-week'].max()}, type = {adult['hours-per-week'].dtype}\")\n",
    "adult.loc[:,'hours-per-week'] = adult.loc[:,'hours-per-week'] / 100\n",
    "print(f\"Min = {adult['hours-per-week'].min()}, Max = {adult['hours-per-week'].max()}, type = {adult['hours-per-week'].dtype}\")"
   ]
  },
  {
   "cell_type": "code",
   "execution_count": 26,
   "metadata": {},
   "outputs": [
    {
     "data": {
      "text/html": [
       "<div>\n",
       "<style scoped>\n",
       "    .dataframe tbody tr th:only-of-type {\n",
       "        vertical-align: middle;\n",
       "    }\n",
       "\n",
       "    .dataframe tbody tr th {\n",
       "        vertical-align: top;\n",
       "    }\n",
       "\n",
       "    .dataframe thead th {\n",
       "        text-align: right;\n",
       "    }\n",
       "</style>\n",
       "<table border=\"1\" class=\"dataframe\">\n",
       "  <thead>\n",
       "    <tr style=\"text-align: right;\">\n",
       "      <th></th>\n",
       "      <th>age</th>\n",
       "      <th>workclass</th>\n",
       "      <th>fnlwgt</th>\n",
       "      <th>education</th>\n",
       "      <th>educational-num</th>\n",
       "      <th>marital-status</th>\n",
       "      <th>occupation</th>\n",
       "      <th>relationship</th>\n",
       "      <th>race</th>\n",
       "      <th>gender</th>\n",
       "      <th>capital-gain</th>\n",
       "      <th>capital-loss</th>\n",
       "      <th>hours-per-week</th>\n",
       "      <th>native-country</th>\n",
       "      <th>income</th>\n",
       "    </tr>\n",
       "  </thead>\n",
       "  <tbody>\n",
       "    <tr>\n",
       "      <th>6101</th>\n",
       "      <td>0.28</td>\n",
       "      <td>Private</td>\n",
       "      <td>79874</td>\n",
       "      <td>Assoc-voc</td>\n",
       "      <td>0.11</td>\n",
       "      <td>Never-married</td>\n",
       "      <td>Machine-op-inspct</td>\n",
       "      <td>Not-in-family</td>\n",
       "      <td>White</td>\n",
       "      <td>1</td>\n",
       "      <td>0</td>\n",
       "      <td>0</td>\n",
       "      <td>0.40</td>\n",
       "      <td>United-States</td>\n",
       "      <td>0</td>\n",
       "    </tr>\n",
       "    <tr>\n",
       "      <th>29396</th>\n",
       "      <td>0.43</td>\n",
       "      <td>Private</td>\n",
       "      <td>168412</td>\n",
       "      <td>HS-grad</td>\n",
       "      <td>0.09</td>\n",
       "      <td>Married-civ-spouse</td>\n",
       "      <td>Sales</td>\n",
       "      <td>Other-relative</td>\n",
       "      <td>White</td>\n",
       "      <td>0</td>\n",
       "      <td>0</td>\n",
       "      <td>0</td>\n",
       "      <td>0.44</td>\n",
       "      <td>Poland</td>\n",
       "      <td>0</td>\n",
       "    </tr>\n",
       "    <tr>\n",
       "      <th>33592</th>\n",
       "      <td>0.18</td>\n",
       "      <td>Private</td>\n",
       "      <td>114008</td>\n",
       "      <td>HS-grad</td>\n",
       "      <td>0.09</td>\n",
       "      <td>Never-married</td>\n",
       "      <td>Other-service</td>\n",
       "      <td>Own-child</td>\n",
       "      <td>White</td>\n",
       "      <td>1</td>\n",
       "      <td>0</td>\n",
       "      <td>0</td>\n",
       "      <td>0.35</td>\n",
       "      <td>United-States</td>\n",
       "      <td>0</td>\n",
       "    </tr>\n",
       "    <tr>\n",
       "      <th>758</th>\n",
       "      <td>0.62</td>\n",
       "      <td>Private</td>\n",
       "      <td>159822</td>\n",
       "      <td>HS-grad</td>\n",
       "      <td>0.09</td>\n",
       "      <td>Married-civ-spouse</td>\n",
       "      <td>Exec-managerial</td>\n",
       "      <td>Husband</td>\n",
       "      <td>White</td>\n",
       "      <td>1</td>\n",
       "      <td>0</td>\n",
       "      <td>0</td>\n",
       "      <td>0.50</td>\n",
       "      <td>United-States</td>\n",
       "      <td>0</td>\n",
       "    </tr>\n",
       "    <tr>\n",
       "      <th>46184</th>\n",
       "      <td>0.30</td>\n",
       "      <td>State-gov</td>\n",
       "      <td>111883</td>\n",
       "      <td>Some-college</td>\n",
       "      <td>0.10</td>\n",
       "      <td>Never-married</td>\n",
       "      <td>Prof-specialty</td>\n",
       "      <td>Not-in-family</td>\n",
       "      <td>White</td>\n",
       "      <td>1</td>\n",
       "      <td>0</td>\n",
       "      <td>0</td>\n",
       "      <td>0.40</td>\n",
       "      <td>United-States</td>\n",
       "      <td>0</td>\n",
       "    </tr>\n",
       "  </tbody>\n",
       "</table>\n",
       "</div>"
      ],
      "text/plain": [
       "        age  workclass  fnlwgt     education  educational-num  \\\n",
       "6101   0.28    Private   79874     Assoc-voc             0.11   \n",
       "29396  0.43    Private  168412       HS-grad             0.09   \n",
       "33592  0.18    Private  114008       HS-grad             0.09   \n",
       "758    0.62    Private  159822       HS-grad             0.09   \n",
       "46184  0.30  State-gov  111883  Some-college             0.10   \n",
       "\n",
       "           marital-status         occupation    relationship   race  gender  \\\n",
       "6101        Never-married  Machine-op-inspct   Not-in-family  White       1   \n",
       "29396  Married-civ-spouse              Sales  Other-relative  White       0   \n",
       "33592       Never-married      Other-service       Own-child  White       1   \n",
       "758    Married-civ-spouse    Exec-managerial         Husband  White       1   \n",
       "46184       Never-married     Prof-specialty   Not-in-family  White       1   \n",
       "\n",
       "       capital-gain  capital-loss  hours-per-week native-country  income  \n",
       "6101              0             0            0.40  United-States       0  \n",
       "29396             0             0            0.44         Poland       0  \n",
       "33592             0             0            0.35  United-States       0  \n",
       "758               0             0            0.50  United-States       0  \n",
       "46184             0             0            0.40  United-States       0  "
      ]
     },
     "execution_count": 26,
     "metadata": {},
     "output_type": "execute_result"
    }
   ],
   "source": [
    "adult.sample(5)"
   ]
  },
  {
   "cell_type": "code",
   "execution_count": 27,
   "metadata": {},
   "outputs": [
    {
     "data": {
      "text/html": [
       "<div>\n",
       "<style scoped>\n",
       "    .dataframe tbody tr th:only-of-type {\n",
       "        vertical-align: middle;\n",
       "    }\n",
       "\n",
       "    .dataframe tbody tr th {\n",
       "        vertical-align: top;\n",
       "    }\n",
       "\n",
       "    .dataframe thead th {\n",
       "        text-align: right;\n",
       "    }\n",
       "</style>\n",
       "<table border=\"1\" class=\"dataframe\">\n",
       "  <thead>\n",
       "    <tr style=\"text-align: right;\">\n",
       "      <th></th>\n",
       "      <th>age</th>\n",
       "      <th>educational-num</th>\n",
       "      <th>gender</th>\n",
       "      <th>hours-per-week</th>\n",
       "    </tr>\n",
       "  </thead>\n",
       "  <tbody>\n",
       "    <tr>\n",
       "      <th>0</th>\n",
       "      <td>0.25</td>\n",
       "      <td>0.07</td>\n",
       "      <td>1</td>\n",
       "      <td>0.40</td>\n",
       "    </tr>\n",
       "    <tr>\n",
       "      <th>1</th>\n",
       "      <td>0.38</td>\n",
       "      <td>0.09</td>\n",
       "      <td>1</td>\n",
       "      <td>0.50</td>\n",
       "    </tr>\n",
       "    <tr>\n",
       "      <th>2</th>\n",
       "      <td>0.28</td>\n",
       "      <td>0.12</td>\n",
       "      <td>1</td>\n",
       "      <td>0.40</td>\n",
       "    </tr>\n",
       "    <tr>\n",
       "      <th>3</th>\n",
       "      <td>0.44</td>\n",
       "      <td>0.10</td>\n",
       "      <td>1</td>\n",
       "      <td>0.40</td>\n",
       "    </tr>\n",
       "    <tr>\n",
       "      <th>4</th>\n",
       "      <td>0.18</td>\n",
       "      <td>0.10</td>\n",
       "      <td>0</td>\n",
       "      <td>0.30</td>\n",
       "    </tr>\n",
       "    <tr>\n",
       "      <th>...</th>\n",
       "      <td>...</td>\n",
       "      <td>...</td>\n",
       "      <td>...</td>\n",
       "      <td>...</td>\n",
       "    </tr>\n",
       "    <tr>\n",
       "      <th>48837</th>\n",
       "      <td>0.27</td>\n",
       "      <td>0.12</td>\n",
       "      <td>0</td>\n",
       "      <td>0.38</td>\n",
       "    </tr>\n",
       "    <tr>\n",
       "      <th>48838</th>\n",
       "      <td>0.40</td>\n",
       "      <td>0.09</td>\n",
       "      <td>1</td>\n",
       "      <td>0.40</td>\n",
       "    </tr>\n",
       "    <tr>\n",
       "      <th>48839</th>\n",
       "      <td>0.58</td>\n",
       "      <td>0.09</td>\n",
       "      <td>0</td>\n",
       "      <td>0.40</td>\n",
       "    </tr>\n",
       "    <tr>\n",
       "      <th>48840</th>\n",
       "      <td>0.22</td>\n",
       "      <td>0.09</td>\n",
       "      <td>1</td>\n",
       "      <td>0.20</td>\n",
       "    </tr>\n",
       "    <tr>\n",
       "      <th>48841</th>\n",
       "      <td>0.52</td>\n",
       "      <td>0.09</td>\n",
       "      <td>0</td>\n",
       "      <td>0.40</td>\n",
       "    </tr>\n",
       "  </tbody>\n",
       "</table>\n",
       "<p>48842 rows × 4 columns</p>\n",
       "</div>"
      ],
      "text/plain": [
       "        age  educational-num  gender  hours-per-week\n",
       "0      0.25             0.07       1            0.40\n",
       "1      0.38             0.09       1            0.50\n",
       "2      0.28             0.12       1            0.40\n",
       "3      0.44             0.10       1            0.40\n",
       "4      0.18             0.10       0            0.30\n",
       "...     ...              ...     ...             ...\n",
       "48837  0.27             0.12       0            0.38\n",
       "48838  0.40             0.09       1            0.40\n",
       "48839  0.58             0.09       0            0.40\n",
       "48840  0.22             0.09       1            0.20\n",
       "48841  0.52             0.09       0            0.40\n",
       "\n",
       "[48842 rows x 4 columns]"
      ]
     },
     "execution_count": 27,
     "metadata": {},
     "output_type": "execute_result"
    }
   ],
   "source": [
    "adult[['age', 'educational-num', 'gender', 'hours-per-week']]"
   ]
  },
  {
   "cell_type": "code",
   "execution_count": 28,
   "metadata": {},
   "outputs": [
    {
     "data": {
      "text/plain": [
       "0        0\n",
       "1        0\n",
       "2        1\n",
       "3        1\n",
       "4        0\n",
       "        ..\n",
       "48837    0\n",
       "48838    1\n",
       "48839    0\n",
       "48840    0\n",
       "48841    1\n",
       "Name: income, Length: 48842, dtype: int64"
      ]
     },
     "execution_count": 28,
     "metadata": {},
     "output_type": "execute_result"
    }
   ],
   "source": [
    "adult.income"
   ]
  },
  {
   "cell_type": "code",
   "execution_count": 29,
   "metadata": {},
   "outputs": [],
   "source": [
    "X = adult[['age', 'educational-num', 'gender', 'hours-per-week']]\n",
    "y = adult['income']\n",
    "\n",
    "from sklearn.linear_model import LogisticRegression\n",
    "from sklearn.svm import SVC\n",
    "from sklearn.ensemble import RandomForestClassifier\n",
    "from sklearn.model_selection import cross_val_score"
   ]
  },
  {
   "cell_type": "code",
   "execution_count": 30,
   "metadata": {},
   "outputs": [
    {
     "name": "stdout",
     "output_type": "stream",
     "text": [
      "Logistic Regression = 0.7954629588128759\n"
     ]
    }
   ],
   "source": [
    "print(f'Logistic Regression = {np.average(cross_val_score(LogisticRegression(), X, y, cv=3))}')"
   ]
  },
  {
   "cell_type": "code",
   "execution_count": 31,
   "metadata": {},
   "outputs": [
    {
     "name": "stdout",
     "output_type": "stream",
     "text": [
      "Random Forest = 0.7900577986398881\n"
     ]
    }
   ],
   "source": [
    "print(f'Random Forest = {np.average(cross_val_score(RandomForestClassifier(n_estimators=100), X, y, cv = 3))}')"
   ]
  },
  {
   "cell_type": "code",
   "execution_count": 32,
   "metadata": {},
   "outputs": [
    {
     "name": "stdout",
     "output_type": "stream",
     "text": [
      "Support Vector Machine = 0.8088121401968832\n"
     ]
    }
   ],
   "source": [
    "print(f'Support Vector Machine = {np.average(cross_val_score(SVC(), X, y, cv = 3))}')"
   ]
  },
  {
   "cell_type": "code",
   "execution_count": 33,
   "metadata": {},
   "outputs": [
    {
     "name": "stdout",
     "output_type": "stream",
     "text": [
      "(39073, 4) (39073,) (9769, 4) (9769,)\n",
      "Epoch 1/50\n",
      "1222/1222 [==============================] - 5s 3ms/step - loss: 0.5277 - accuracy: 0.7603 - val_loss: 0.4936 - val_accuracy: 0.7625\n",
      "Epoch 2/50\n",
      "1222/1222 [==============================] - 4s 3ms/step - loss: 0.4711 - accuracy: 0.7655 - val_loss: 0.4442 - val_accuracy: 0.7766\n",
      "Epoch 3/50\n",
      "1222/1222 [==============================] - 3s 3ms/step - loss: 0.4402 - accuracy: 0.7861 - val_loss: 0.4240 - val_accuracy: 0.7963\n",
      "Epoch 4/50\n",
      "1222/1222 [==============================] - 4s 3ms/step - loss: 0.4272 - accuracy: 0.7967 - val_loss: 0.4153 - val_accuracy: 0.8064\n",
      "Epoch 5/50\n",
      "1222/1222 [==============================] - 4s 3ms/step - loss: 0.4207 - accuracy: 0.8010 - val_loss: 0.4115 - val_accuracy: 0.8081\n",
      "Epoch 6/50\n",
      "1222/1222 [==============================] - 3s 3ms/step - loss: 0.4172 - accuracy: 0.8018 - val_loss: 0.4095 - val_accuracy: 0.8115\n",
      "Epoch 7/50\n",
      "1222/1222 [==============================] - 3s 3ms/step - loss: 0.4150 - accuracy: 0.8036 - val_loss: 0.4093 - val_accuracy: 0.8099\n",
      "Epoch 8/50\n",
      "1222/1222 [==============================] - 3s 3ms/step - loss: 0.4138 - accuracy: 0.8045 - val_loss: 0.4068 - val_accuracy: 0.8143\n",
      "Epoch 9/50\n",
      "1222/1222 [==============================] - 4s 3ms/step - loss: 0.4131 - accuracy: 0.8044 - val_loss: 0.4069 - val_accuracy: 0.8126\n",
      "Epoch 10/50\n",
      "1222/1222 [==============================] - 4s 3ms/step - loss: 0.4123 - accuracy: 0.8054 - val_loss: 0.4052 - val_accuracy: 0.8110\n",
      "Epoch 11/50\n",
      "1222/1222 [==============================] - 4s 3ms/step - loss: 0.4120 - accuracy: 0.8053 - val_loss: 0.4055 - val_accuracy: 0.8130\n",
      "Epoch 12/50\n",
      "1222/1222 [==============================] - 3s 3ms/step - loss: 0.4117 - accuracy: 0.8051 - val_loss: 0.4047 - val_accuracy: 0.8155\n",
      "Epoch 13/50\n",
      "1222/1222 [==============================] - 3s 3ms/step - loss: 0.4117 - accuracy: 0.8051 - val_loss: 0.4041 - val_accuracy: 0.8153\n",
      "Epoch 14/50\n",
      "1222/1222 [==============================] - 4s 3ms/step - loss: 0.4113 - accuracy: 0.8053 - val_loss: 0.4045 - val_accuracy: 0.8144\n",
      "Epoch 15/50\n",
      "1222/1222 [==============================] - 3s 3ms/step - loss: 0.4107 - accuracy: 0.8044 - val_loss: 0.4054 - val_accuracy: 0.8120\n",
      "Epoch 16/50\n",
      "1222/1222 [==============================] - 3s 3ms/step - loss: 0.4102 - accuracy: 0.8058 - val_loss: 0.4054 - val_accuracy: 0.8136\n",
      "Epoch 17/50\n",
      "1222/1222 [==============================] - 4s 3ms/step - loss: 0.4105 - accuracy: 0.8055 - val_loss: 0.4083 - val_accuracy: 0.8121\n",
      "Epoch 18/50\n",
      "1222/1222 [==============================] - 5s 4ms/step - loss: 0.4101 - accuracy: 0.8057 - val_loss: 0.4032 - val_accuracy: 0.8130\n",
      "Epoch 19/50\n",
      "1222/1222 [==============================] - 4s 4ms/step - loss: 0.4102 - accuracy: 0.8063 - val_loss: 0.4034 - val_accuracy: 0.8146\n",
      "Epoch 20/50\n",
      "1222/1222 [==============================] - 4s 4ms/step - loss: 0.4101 - accuracy: 0.8068 - val_loss: 0.4050 - val_accuracy: 0.8126\n",
      "Epoch 21/50\n",
      "1222/1222 [==============================] - 5s 4ms/step - loss: 0.4102 - accuracy: 0.8057 - val_loss: 0.4048 - val_accuracy: 0.8118\n",
      "Epoch 22/50\n",
      "1222/1222 [==============================] - 4s 3ms/step - loss: 0.4097 - accuracy: 0.8066 - val_loss: 0.4084 - val_accuracy: 0.8115\n",
      "Epoch 23/50\n",
      "1222/1222 [==============================] - 4s 3ms/step - loss: 0.4100 - accuracy: 0.8062 - val_loss: 0.4031 - val_accuracy: 0.8148\n",
      "Epoch 24/50\n",
      "1222/1222 [==============================] - 4s 3ms/step - loss: 0.4094 - accuracy: 0.8070 - val_loss: 0.4021 - val_accuracy: 0.8146\n",
      "Epoch 25/50\n",
      "1222/1222 [==============================] - 5s 4ms/step - loss: 0.4091 - accuracy: 0.8072 - val_loss: 0.4034 - val_accuracy: 0.8152\n",
      "Epoch 26/50\n",
      "1222/1222 [==============================] - 4s 3ms/step - loss: 0.4098 - accuracy: 0.8059 - val_loss: 0.4085 - val_accuracy: 0.8103\n",
      "Epoch 27/50\n",
      "1222/1222 [==============================] - 4s 3ms/step - loss: 0.4093 - accuracy: 0.8063 - val_loss: 0.4038 - val_accuracy: 0.8157\n",
      "Epoch 28/50\n",
      "1222/1222 [==============================] - 4s 3ms/step - loss: 0.4093 - accuracy: 0.8074 - val_loss: 0.4022 - val_accuracy: 0.8145\n",
      "Epoch 29/50\n",
      "1222/1222 [==============================] - 3s 3ms/step - loss: 0.4091 - accuracy: 0.8071 - val_loss: 0.4019 - val_accuracy: 0.8146\n",
      "Epoch 30/50\n",
      "1222/1222 [==============================] - 4s 3ms/step - loss: 0.4089 - accuracy: 0.8071 - val_loss: 0.4028 - val_accuracy: 0.8149\n",
      "Epoch 31/50\n",
      "1222/1222 [==============================] - 4s 3ms/step - loss: 0.4089 - accuracy: 0.8064 - val_loss: 0.4031 - val_accuracy: 0.8150\n",
      "Epoch 32/50\n",
      "1222/1222 [==============================] - 4s 3ms/step - loss: 0.4086 - accuracy: 0.8074 - val_loss: 0.4053 - val_accuracy: 0.8132\n",
      "Epoch 33/50\n",
      "1222/1222 [==============================] - 4s 3ms/step - loss: 0.4092 - accuracy: 0.8068 - val_loss: 0.4019 - val_accuracy: 0.8150\n",
      "Epoch 34/50\n",
      "1222/1222 [==============================] - 3s 3ms/step - loss: 0.4092 - accuracy: 0.8077 - val_loss: 0.4031 - val_accuracy: 0.8152\n",
      "Epoch 35/50\n",
      "1222/1222 [==============================] - 4s 3ms/step - loss: 0.4093 - accuracy: 0.8067 - val_loss: 0.4023 - val_accuracy: 0.8154\n",
      "Epoch 36/50\n",
      "1222/1222 [==============================] - 4s 4ms/step - loss: 0.4090 - accuracy: 0.8063 - val_loss: 0.4036 - val_accuracy: 0.8115\n",
      "Epoch 37/50\n",
      "1222/1222 [==============================] - 4s 4ms/step - loss: 0.4087 - accuracy: 0.8076 - val_loss: 0.4023 - val_accuracy: 0.8151\n",
      "Epoch 38/50\n",
      "1222/1222 [==============================] - 5s 4ms/step - loss: 0.4087 - accuracy: 0.8061 - val_loss: 0.4023 - val_accuracy: 0.8163\n",
      "Epoch 39/50\n",
      "1222/1222 [==============================] - 5s 4ms/step - loss: 0.4089 - accuracy: 0.8073 - val_loss: 0.4044 - val_accuracy: 0.8162\n",
      "Epoch 40/50\n",
      "1222/1222 [==============================] - 5s 4ms/step - loss: 0.4089 - accuracy: 0.8065 - val_loss: 0.4017 - val_accuracy: 0.8153\n",
      "Epoch 41/50\n",
      "1222/1222 [==============================] - 4s 4ms/step - loss: 0.4086 - accuracy: 0.8072 - val_loss: 0.4053 - val_accuracy: 0.8156\n",
      "Epoch 42/50\n",
      "1222/1222 [==============================] - 4s 4ms/step - loss: 0.4083 - accuracy: 0.8073 - val_loss: 0.4022 - val_accuracy: 0.8152\n",
      "Epoch 43/50\n",
      "1222/1222 [==============================] - 4s 3ms/step - loss: 0.4084 - accuracy: 0.8066 - val_loss: 0.4022 - val_accuracy: 0.8157\n",
      "Epoch 44/50\n",
      "1222/1222 [==============================] - 4s 3ms/step - loss: 0.4084 - accuracy: 0.8083 - val_loss: 0.4020 - val_accuracy: 0.8170\n",
      "Epoch 45/50\n",
      "1222/1222 [==============================] - 5s 4ms/step - loss: 0.4087 - accuracy: 0.8066 - val_loss: 0.4018 - val_accuracy: 0.8145\n",
      "Epoch 46/50\n",
      "1222/1222 [==============================] - 4s 3ms/step - loss: 0.4084 - accuracy: 0.8073 - val_loss: 0.4023 - val_accuracy: 0.8145\n",
      "Epoch 47/50\n",
      "1222/1222 [==============================] - 4s 3ms/step - loss: 0.4081 - accuracy: 0.8081 - val_loss: 0.4023 - val_accuracy: 0.8141\n",
      "Epoch 48/50\n",
      "1222/1222 [==============================] - 4s 3ms/step - loss: 0.4081 - accuracy: 0.8065 - val_loss: 0.4031 - val_accuracy: 0.8145\n",
      "Epoch 49/50\n",
      "1222/1222 [==============================] - 4s 3ms/step - loss: 0.4083 - accuracy: 0.8077 - val_loss: 0.4049 - val_accuracy: 0.8139\n",
      "Epoch 50/50\n",
      "1222/1222 [==============================] - 3s 3ms/step - loss: 0.4081 - accuracy: 0.8070 - val_loss: 0.4040 - val_accuracy: 0.8148\n",
      "\n",
      "306/306 [==============================] - 1s 3ms/step - loss: 0.4040 - accuracy: 0.8148\n",
      "Simple Neural Network = [0.4039952754974365, 0.8148223757743835]\n"
     ]
    },
    {
     "data": {
      "image/png": "[encoded data removed]",
      "text/plain": [
       "<Figure size 432x288 with 1 Axes>"
      ]
     },
     "metadata": {
      "needs_background": "light"
     },
     "output_type": "display_data"
    }
   ],
   "source": [
    "from sklearn.model_selection import train_test_split\n",
    "X_train, X_test, y_train, y_test = train_test_split(X, y, test_size=.2)\n",
    "print(X_train.shape, y_train.shape, X_test.shape, y_test.shape)\n",
    "\n",
    "import tensorflow as tf\n",
    "from tensorflow import keras\n",
    "\n",
    "model = keras.Sequential([\n",
    "    keras.layers.Dense(12, activation='relu', input_shape=(4,)),\n",
    "    keras.layers.Dense(4, activation='relu'),\n",
    "    keras.layers.Dense(1, activation='sigmoid')\n",
    "])\n",
    "\n",
    "model.compile(\n",
    "    optimizer = 'adam',\n",
    "    loss = 'binary_crossentropy',\n",
    "    metrics=['accuracy']\n",
    ")\n",
    "\n",
    "history = model.fit(\n",
    "    X_train, y_train,\n",
    "    validation_data = (X_test, y_test),\n",
    "    epochs=50\n",
    ")\n",
    "\n",
    "history_to_plot = pd.DataFrame(history.history)\n",
    "history_to_plot.plot()\n",
    "\n",
    "print('')\n",
    "print(f'Simple Neural Network = {model.evaluate(X_test, y_test)}')"
   ]
  },
  {
   "cell_type": "markdown",
   "metadata": {},
   "source": [
    "### Every models have around 80% accuracy. But Neural Network and achieved best accuracy 81%. To achieve better accuracy it can be necessary to take more variables such as race, occupation etc. but first this data must be cleaned and converted to numeric"
   ]
  }
 ],
 "metadata": {
  "interpreter": {
   "hash": "4ce0e62306dd6a5716965d4519ada776f947e6dfc145b604b11307c10277ef29"
  },
  "kernelspec": {
   "display_name": "Python 3.9.2 64-bit",
   "language": "python",
   "name": "python3"
  },
  "language_info": {
   "codemirror_mode": {
    "name": "ipython",
    "version": 3
   },
   "file_extension": ".py",
   "mimetype": "text/x-python",
   "name": "python",
   "nbconvert_exporter": "python",
   "pygments_lexer": "ipython3",
   "version": "3.9.2"
  },
  "orig_nbformat": 4
 },
 "nbformat": 4,
 "nbformat_minor": 2
}
